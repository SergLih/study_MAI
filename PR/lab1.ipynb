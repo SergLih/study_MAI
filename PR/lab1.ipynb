{
 "cells": [
  {
   "cell_type": "markdown",
   "metadata": {},
   "source": [
    "## Лабораторная работа 1. Построение байесовского классификатора по выборке двумерных нормально распределенных векторов\n",
    "---"
   ]
  },
  {
   "cell_type": "markdown",
   "metadata": {},
   "source": [
    "#### $\\S$ 1. Постановка задачи\n",
    "\n",
    "Пусть заданы априорные вероятности появления классов $P(\\Omega_1)$, $P(\\Omega_2)$ и плотности распределения признаков в классах $p(\\mathrm{x}|\\Omega_1)$, $p(\\mathrm{x}|\\Omega_2)$. Тогда\n",
    "\n",
    "$$\n",
    "\\mathrm{x}\\in\\Omega_1 \\Leftrightarrow ~p(\\mathrm{x}|\\Omega_1)P(\\Omega_1) > p(\\mathrm{x}|\\Omega_2)P(\\Omega_2).\n",
    "$$\n",
    "\n",
    "Предположим, что вектор признаков нормально распределен в классах $\\Omega_1$, $\\Omega_2$ и\n",
    "\n",
    "$$\n",
    "p(\\mathrm{x}|\\Omega_i) = \\frac{1}{(2\\pi)^{n/2} \\sqrt{\\det\\mathrm{S}_i}} e^{-\\frac{1}{2}(\\mathrm{x}-\\mathrm{m}_i)^T\\mathrm{S}_i^{-1}(\\mathrm{x}-\\mathrm{m}_i)},\n",
    "$$\n",
    "\n",
    "где $\\mathrm{S}_i$ -- ковариационная матрица вектор признаков. В этом случае\n",
    "\n",
    "$$\n",
    "\\mathrm{x}\\in\\Omega_1 \\Leftrightarrow ~\\frac{P(\\Omega_1)}{\\sqrt{\\det\\mathrm{S}_1}} e^{-\\frac{1}{2}(\\mathrm{x}-\\mathrm{m}_1)^T\\mathrm{S}_1^{-1}(\\mathrm{x}-\\mathrm{m}_1)} > \\frac{P(\\Omega_2)}{\\sqrt{\\det\\mathrm{S}_2}} e^{-\\frac{1}{2}(\\mathrm{x}-\\mathrm{m}_2)^T\\mathrm{S}_2^{-1}(\\mathrm{x}-\\mathrm{m}_2)}.\n",
    "$$\n",
    "\n",
    "Прологарифмируем последнее неравенство и обозначим:\n",
    "\n",
    "$$\n",
    "d_i(\\mathrm{x}) = \\ln P(\\Omega_i) - \\frac{1}{2}\\ln\\det\\mathrm{S}_i - \\frac{1}{2}(\\mathrm{x}-\\mathrm{m}_i)^T\\mathrm{S}_i^{-1}(\\mathrm{x}-\\mathrm{m}_i)\n",
    "$$\n",
    "\n",
    "Тогда\n",
    "\n",
    "$$\n",
    "\\mathrm{x}\\in\\Omega_1 \\Leftrightarrow ~d_1(\\mathrm{x}) > d_2(\\mathrm{x}).\n",
    "$$\n",
    "\n",
    "Аналогичный результат имеет место при построении байесовского классификатора для разделения $m$ классов\n",
    "\n",
    "$$\n",
    "\\mathrm{x}\\in\\Omega_i \\Leftrightarrow ~d_i(\\mathrm{x}) > d_j(\\mathrm{x}),~~\\forall j\\ne i.\n",
    "$$\n",
    "\n",
    "**Задание.** Используя байесовский классификатор, построить множества предпочтения классов $\\Omega_1$, $\\Omega_2$, предполгая что вектор признаков каждого класса представляет собой двумерную нормально распределенную случайную величину с неизвестными параметрами."
   ]
  },
  {
   "cell_type": "code",
   "execution_count": 2,
   "metadata": {},
   "outputs": [],
   "source": [
    "import numpy as np\n",
    "import matplotlib.pyplot as plt\n",
    "%matplotlib inline"
   ]
  },
  {
   "cell_type": "code",
   "execution_count": 3,
   "metadata": {},
   "outputs": [],
   "source": [
    "P_1 = 0.4\n",
    "P_2 = 0.6\n",
    "mu_1 = [0, 0]\n",
    "mu_2 = [3, 2]\n",
    "sigma_1 = [2, 1]\n",
    "sigma_2 = [2, 1]"
   ]
  },
  {
   "cell_type": "code",
   "execution_count": 93,
   "metadata": {},
   "outputs": [],
   "source": [
    "np.random.seed(44222)\n",
    "N = 50\n",
    "X_1 = np.random.normal(mu_1[0], sigma_1[0], N)\n",
    "X_2 = np.random.normal(mu_2[0], sigma_2[0], N)\n",
    "Y_1 = np.random.normal(mu_1[1], sigma_1[1], N)\n",
    "Y_2 = np.random.normal(mu_2[1], sigma_2[1], N)"
   ]
  },
  {
   "cell_type": "code",
   "execution_count": 94,
   "metadata": {},
   "outputs": [
    {
     "data": {
      "text/plain": [
       "[<matplotlib.lines.Line2D at 0x7f3fa5a3a470>]"
      ]
     },
     "execution_count": 94,
     "metadata": {},
     "output_type": "execute_result"
    },
    {
     "data": {
      "image/png": "[encoded data removed]",
      "text/plain": [
       "<Figure size 432x288 with 1 Axes>"
      ]
     },
     "metadata": {
      "needs_background": "light"
     },
     "output_type": "display_data"
    }
   ],
   "source": [
    "plt.figure()\n",
    "plt.plot(X_1, Y_1, 'o')\n",
    "plt.plot(X_2, Y_2, '+')"
   ]
  },
  {
   "cell_type": "markdown",
   "metadata": {},
   "source": [
    "#### $\\S$ 2. Вычисление оценок числовых характеристик распределений векторов в классах\n",
    "\n",
    "$$\n",
    "\\hat{\\mathrm{m}} = \\begin{pmatrix}\\bar{x} & \\bar{y}\\end{pmatrix}^T = \\frac{1}{N} \\sum\\limits_{k=1}^N \\mathrm{x}_k,~~~~\\mathrm{x}_k = \\begin{pmatrix}x_{k} & y_k\\end{pmatrix}^T\n",
    "$$"
   ]
  },
  {
   "cell_type": "code",
   "execution_count": 95,
   "metadata": {},
   "outputs": [],
   "source": [
    "vec_coords1 = np.column_stack((X_1, Y_1)) #аналог np.array(list(zip(X_1, Y_1)))\n",
    "vec_coords2 = np.column_stack((X_2, Y_2))"
   ]
  },
  {
   "cell_type": "code",
   "execution_count": 96,
   "metadata": {},
   "outputs": [],
   "source": [
    "''' Ваш код '''\n",
    "\n",
    "m_1 = vec_coords1.mean(axis=0) # m == [𝑥¯, 𝑦¯]\n",
    "m_2 = vec_coords2.mean(axis=0)"
   ]
  },
  {
   "cell_type": "code",
   "execution_count": 97,
   "metadata": {},
   "outputs": [
    {
     "data": {
      "text/plain": [
       "array([-0.51275508,  0.0333622 ])"
      ]
     },
     "execution_count": 97,
     "metadata": {},
     "output_type": "execute_result"
    }
   ],
   "source": [
    "m_1"
   ]
  },
  {
   "cell_type": "markdown",
   "metadata": {},
   "source": [
    "#### $\\S$ 3. Вычисление выборочных ковариационных матриц $\\bar{\\mathrm{S}} = \\bar{\\mathrm{S}}(\\mathrm{x}_1,\\dots,\\mathrm{x}_N)$\n",
    "\n",
    "Пусть $\\mathrm{x}_k = \\begin{pmatrix}x_{k} & y_k\\end{pmatrix}^T$, $k = 1,\\dots, N$. Тогда\n",
    "\n",
    "$$\n",
    "\\hat{\\mathrm{S}} = \\frac{1}{N}\\sum\\limits_{k=1}^N (\\mathrm{x}_k - \\hat{\\mathrm{m}})\\cdot (\\mathrm{x}_k - \\hat{\\mathrm{m}})^T = \\begin{pmatrix}\\frac{1}{N}\\sum\\limits_{k=1}^N (x_k - \\bar{x})^2 & \\frac{1}{N}\\sum\\limits_{k=1}^N (x_k - \\bar{x})(y_k - \\bar{y})\\\\ \\frac{1}{N}\\sum\\limits_{k=1}^N (x_k - \\bar{x})(y_k - \\bar{y}) & \\frac{1}{N}\\sum\\limits_{k=1}^N (y_k - \\bar{y})^2\\end{pmatrix}.\n",
    "$$"
   ]
  },
  {
   "cell_type": "code",
   "execution_count": 98,
   "metadata": {},
   "outputs": [],
   "source": [
    "def get_S(vec_coords, m):\n",
    "#     S_row1_col1 = (np.column_stack((vec_coords[:,0] - m[0], vec_coords[:,1]))** 2).mean(axis=0)\n",
    "#     S_row2_col2 = (np.column_stack((vec_coords[:,0], vec_coords[:,1] - m[1]))** 2).mean(axis=0)\n",
    "#     S_rowcol12 = (np.multiply(np.column_stack((vec_coords[:,0] - m[0], vec_coords[:,1])),\n",
    "#                       np.column_stack((vec_coords[:,0], vec_coords[:,1] - m[1])))).mean(axis=0)\n",
    "    \n",
    "#     S = [[0 for x in range(2)] for y in range(2)]\n",
    "    \n",
    "#     S[0][0] = S_row1_col1\n",
    "#     S[1][1] = S_row2_col2\n",
    "#     S[0][1] = S_rowcol12\n",
    "#     S[1][0] = S_rowcol12\n",
    "#     return np.array(S)\n",
    "#     np.dot((vec_coords1 - m_1).T, (vec_coords1 - m_1))/N\n",
    "      return np.cov(vec_coords.T, bias=True)\n",
    "    \n"
   ]
  },
  {
   "cell_type": "code",
   "execution_count": 99,
   "metadata": {},
   "outputs": [],
   "source": [
    "S_1 = get_S(vec_coords1, m_1)\n",
    "S_2 = get_S(vec_coords2, m_2)"
   ]
  },
  {
   "cell_type": "code",
   "execution_count": 100,
   "metadata": {},
   "outputs": [
    {
     "data": {
      "text/plain": [
       "array([[2.38647954, 0.19055004],\n",
       "       [0.19055004, 0.79330449]])"
      ]
     },
     "execution_count": 100,
     "metadata": {},
     "output_type": "execute_result"
    }
   ],
   "source": [
    "S_1"
   ]
  },
  {
   "cell_type": "code",
   "execution_count": 101,
   "metadata": {},
   "outputs": [
    {
     "data": {
      "text/plain": [
       "array([[3.2692165 , 0.1346661 ],\n",
       "       [0.1346661 , 0.81345578]])"
      ]
     },
     "execution_count": 101,
     "metadata": {},
     "output_type": "execute_result"
    }
   ],
   "source": [
    "S_2"
   ]
  },
  {
   "cell_type": "markdown",
   "metadata": {},
   "source": [
    "#### $\\S$ 4.  Вычисление решающих функций, определяемых байесовским классификатором"
   ]
  },
  {
   "attachments": {
    "image.png": {
     "image/png": "[encoded data removed]"
    }
   },
   "cell_type": "markdown",
   "metadata": {},
   "source": [
    "![image.png](attachment:image.png)"
   ]
  },
  {
   "cell_type": "code",
   "execution_count": 102,
   "metadata": {},
   "outputs": [
    {
     "data": {
      "text/plain": [
       "array([[2.38647954, 0.19055004],\n",
       "       [0.19055004, 0.79330449]])"
      ]
     },
     "execution_count": 102,
     "metadata": {},
     "output_type": "execute_result"
    }
   ],
   "source": [
    "S_1"
   ]
  },
  {
   "cell_type": "code",
   "execution_count": 103,
   "metadata": {
    "scrolled": true
   },
   "outputs": [],
   "source": [
    "sign, logdet = np.linalg.slogdet(S_1)"
   ]
  },
  {
   "cell_type": "code",
   "execution_count": 104,
   "metadata": {},
   "outputs": [
    {
     "data": {
      "text/plain": [
       "(1.0, 0.6189060684120136)"
      ]
     },
     "execution_count": 104,
     "metadata": {},
     "output_type": "execute_result"
    }
   ],
   "source": [
    "sign, logdet"
   ]
  },
  {
   "cell_type": "code",
   "execution_count": 110,
   "metadata": {},
   "outputs": [],
   "source": [
    "def dist(x, S, m, P):\n",
    "    # Функция d_i(x)\n",
    "    sign, logdet = np.linalg.slogdet(S)\n",
    "    d_i = np.log(P) - logdet/2 - np.dot(np.dot((x - m).T, np.linalg.inv(S)),(x - m))/2  \n",
    "    \n",
    "    return d_i"
   ]
  },
  {
   "cell_type": "code",
   "execution_count": 111,
   "metadata": {},
   "outputs": [
    {
     "data": {
      "text/plain": [
       "<matplotlib.contour.QuadContourSet at 0x7f3fa50d27b8>"
      ]
     },
     "execution_count": 111,
     "metadata": {},
     "output_type": "execute_result"
    },
    {
     "data": {
      "image/png": "[encoded data removed]",
      "text/plain": [
       "<Figure size 432x288 with 1 Axes>"
      ]
     },
     "metadata": {
      "needs_background": "light"
     },
     "output_type": "display_data"
    }
   ],
   "source": [
    "# Строим множества предпочтения классов. Править не нужно\n",
    "ax = plt.gca()\n",
    "r = 1\n",
    "g = 0\n",
    "b = 0\n",
    "ax.scatter(X_1, Y_1, marker = 'o', c = [[r, g, b]])\n",
    "r = 0\n",
    "g = 0\n",
    "b = 1\n",
    "ax.scatter(X_2, Y_2, marker = '+', c = [[r, g, b]])\n",
    "ax.axis('off')\n",
    "xlim = ax.get_xlim()\n",
    "ylim = ax.get_ylim()\n",
    "xx, yy = np.meshgrid(np.linspace(*xlim, num = 100), np.linspace(*ylim, num = 100))\n",
    "#print([xx[i, j], yy[i, j]])\n",
    "d = np.zeros(xx.shape)\n",
    "for i in range(d.shape[0]):\n",
    "    for j in range(d.shape[1]):\n",
    "        '''\n",
    "        Для вектора x = (i, j) вычисляем d_{i,j} = (sign(d_1(x) - d_2(x)) + 1) / 2\n",
    "        Классификация: если d_{i,j} = 0, то x\\in\\Omega_2, если d_{i,j} = 1, то x\\in\\Omega_1\n",
    "        '''\n",
    "        d[i, j] = np.sign(dist([xx[i, j], yy[i, j]], S_1, m_1, P_1) - dist([xx[i, j], yy[i, j]], S_2, m_2, P_2)) + 1\n",
    "ax.contourf(xx, yy, 0.5 * d, alpha = 0.3)"
   ]
  },
  {
   "cell_type": "markdown",
   "metadata": {},
   "source": [
    "### Литература\n",
    "\n",
    "1. Лепский А.Е., Броневич А.Г. Математические методы распознавания образов: Курс лекций. -- Таганрог: Изд-во ТТИ ЮФУ, 2009. - 155 с.\n",
    "\n",
    "2. Местецкий Л.М. Математические методы распознавания образов: Курс лекций. -- М: МГУ, 2004. - 85 с."
   ]
  }
 ],
 "metadata": {
  "kernelspec": {
   "display_name": "Python 3",
   "language": "python",
   "name": "python3"
  },
  "language_info": {
   "codemirror_mode": {
    "name": "ipython",
    "version": 3
   },
   "file_extension": ".py",
   "mimetype": "text/x-python",
   "name": "python",
   "nbconvert_exporter": "python",
   "pygments_lexer": "ipython3",
   "version": "3.6.9"
  }
 },
 "nbformat": 4,
 "nbformat_minor": 2
}
