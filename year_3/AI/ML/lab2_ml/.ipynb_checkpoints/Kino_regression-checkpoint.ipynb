{
 "cells": [
  {
   "cell_type": "code",
   "execution_count": 1,
   "metadata": {},
   "outputs": [],
   "source": [
    "import pandas as pd\n",
    "import seaborn as sns\n",
    "import matplotlib.pyplot as plt\n",
    "import re\n",
    "import random\n",
    "import numpy as np\n",
    "import scipy.sparse as sp\n",
    "import itertools\n",
    "import pickle\n",
    "from collections import Counter\n",
    "from tqdm import tqdm_notebook\n",
    "from nltk.stem.snowball import SnowballStemmer\n",
    "stemmer = SnowballStemmer(\"russian\")\n",
    "np.set_printoptions(linewidth=120)\n",
    "sns.set()"
   ]
  },
  {
   "cell_type": "code",
   "execution_count": 2,
   "metadata": {},
   "outputs": [],
   "source": [
    "df = pd.read_pickle('./kinopoisk/dfall.pkl')\n",
    "df = df.sample(frac=1).reset_index(drop=True)"
   ]
  },
  {
   "cell_type": "code",
   "execution_count": 3,
   "metadata": {},
   "outputs": [],
   "source": [
    "df['date'] = pd.to_datetime(df['date'])\n",
    "df.loc[df['title'].isna(), 'title'] = \"\"\n",
    "df.loc[df['score']==0, 'score'] = None\n",
    "df.loc[df['score']>10,'score'] = 10\n",
    "df.dropna(inplace=True)\n",
    "df.drop_duplicates(inplace=True, subset=set(df.columns) - set(['stems']))"
   ]
  },
  {
   "cell_type": "code",
   "execution_count": 4,
   "metadata": {},
   "outputs": [
    {
     "name": "stdout",
     "output_type": "stream",
     "text": [
      "(4492, 9)\n"
     ]
    },
    {
     "data": {
      "text/html": [
       "<div>\n",
       "<style scoped>\n",
       "    .dataframe tbody tr th:only-of-type {\n",
       "        vertical-align: middle;\n",
       "    }\n",
       "\n",
       "    .dataframe tbody tr th {\n",
       "        vertical-align: top;\n",
       "    }\n",
       "\n",
       "    .dataframe thead th {\n",
       "        text-align: right;\n",
       "    }\n",
       "</style>\n",
       "<table border=\"1\" class=\"dataframe\">\n",
       "  <thead>\n",
       "    <tr style=\"text-align: right;\">\n",
       "      <th></th>\n",
       "      <th>cat</th>\n",
       "      <th>date</th>\n",
       "      <th>movie_title</th>\n",
       "      <th>not_useful</th>\n",
       "      <th>score</th>\n",
       "      <th>text</th>\n",
       "      <th>title</th>\n",
       "      <th>useful</th>\n",
       "      <th>stems</th>\n",
       "    </tr>\n",
       "  </thead>\n",
       "  <tbody>\n",
       "    <tr>\n",
       "      <th>6715</th>\n",
       "      <td>good</td>\n",
       "      <td>2019-05-03 13:21:00</td>\n",
       "      <td>Недруги</td>\n",
       "      <td>0</td>\n",
       "      <td>9.0</td>\n",
       "      <td>Конечно, жанр «вестерн» вообще  это всецело п...</td>\n",
       "      <td>«Поздоровайся с человеком, с которым у вас вза...</td>\n",
       "      <td>1</td>\n",
       "      <td>[поздорова, взаимн, нелюбов, озадач, цел, жанр...</td>\n",
       "    </tr>\n",
       "    <tr>\n",
       "      <th>6716</th>\n",
       "      <td>good</td>\n",
       "      <td>2019-05-18 16:34:00</td>\n",
       "      <td>Бэтмен против Черепашек-ниндзя</td>\n",
       "      <td>1</td>\n",
       "      <td>7.0</td>\n",
       "      <td>Время от времени становится ясно, что кинокоми...</td>\n",
       "      <td></td>\n",
       "      <td>19</td>\n",
       "      <td>[станов, ясн, кинокомикс, хвата, нов, бэтм, по...</td>\n",
       "    </tr>\n",
       "    <tr>\n",
       "      <th>6720</th>\n",
       "      <td>good</td>\n",
       "      <td>2019-04-30 02:45:00</td>\n",
       "      <td>Мстители: Финал</td>\n",
       "      <td>19</td>\n",
       "      <td>9.0</td>\n",
       "      <td>В прошлом году «Война бесконечности» представи...</td>\n",
       "      <td>Мстители  Предотвратители</td>\n",
       "      <td>27</td>\n",
       "      <td>[мстител, предотвратител, прошл, войн, бесконе...</td>\n",
       "    </tr>\n",
       "    <tr>\n",
       "      <th>6721</th>\n",
       "      <td>neutral</td>\n",
       "      <td>2019-05-23 15:49:00</td>\n",
       "      <td>Английский пациент</td>\n",
       "      <td>0</td>\n",
       "      <td>8.0</td>\n",
       "      <td>Впечатление мощное. Сильное душевное напряжени...</td>\n",
       "      <td>Люблю ёжиков",
       " и мужа</td>\n",
       "      <td>3</td>\n",
       "      <td>[любл, жик, муж, впечатлен, мощн, сильн, душев...</td>\n",
       "    </tr>\n",
       "    <tr>\n",
       "      <th>6722</th>\n",
       "      <td>bad</td>\n",
       "      <td>2019-05-31 20:36:00</td>\n",
       "      <td>Долгие, долгие каникулы</td>\n",
       "      <td>0</td>\n",
       "      <td>2.0</td>\n",
       "      <td>Узнал про этот сериал из списка «незаслуженно ...</td>\n",
       "      <td>Немцы на лайт моде</td>\n",
       "      <td>0</td>\n",
       "      <td>[немц, лайт, мод, узна, сериа, списк, незаслуж...</td>\n",
       "    </tr>\n",
       "  </tbody>\n",
       "</table>\n",
       "</div>"
      ],
      "text/plain": [
       "          cat                date                     movie_title  not_useful  \\\n",
       "6715     good 2019-05-03 13:21:00                         Недруги           0   \n",
       "6716     good 2019-05-18 16:34:00  Бэтмен против Черепашек-ниндзя           1   \n",
       "6720     good 2019-04-30 02:45:00                 Мстители: Финал          19   \n",
       "6721  neutral 2019-05-23 15:49:00              Английский пациент           0   \n",
       "6722      bad 2019-05-31 20:36:00         Долгие, долгие каникулы           0   \n",
       "\n",
       "      score                                               text  \\\n",
       "6715    9.0  Конечно, жанр «вестерн» вообще  это всецело п...   \n",
       "6716    7.0  Время от времени становится ясно, что кинокоми...   \n",
       "6720    9.0  В прошлом году «Война бесконечности» представи...   \n",
       "6721    8.0  Впечатление мощное. Сильное душевное напряжени...   \n",
       "6722    2.0  Узнал про этот сериал из списка «незаслуженно ...   \n",
       "\n",
       "                                                  title  useful  \\\n",
       "6715  «Поздоровайся с человеком, с которым у вас вза...       1   \n",
       "6716                                                         19   \n",
       "6720                         Мстители  Предотвратители      27   \n",
       "6721                              Люблю ёжиков\n",
       " и мужа\n",
       "       3   \n",
       "6722                                 Немцы на лайт моде       0   \n",
       "\n",
       "                                                  stems  \n",
       "6715  [поздорова, взаимн, нелюбов, озадач, цел, жанр...  \n",
       "6716  [станов, ясн, кинокомикс, хвата, нов, бэтм, по...  \n",
       "6720  [мстител, предотвратител, прошл, войн, бесконе...  \n",
       "6721  [любл, жик, муж, впечатлен, мощн, сильн, душев...  \n",
       "6722  [немц, лайт, мод, узна, сериа, списк, незаслуж...  "
      ]
     },
     "execution_count": 4,
     "metadata": {},
     "output_type": "execute_result"
    }
   ],
   "source": [
    "print(df.shape)\n",
    "df.tail()"
   ]
  },
  {
   "cell_type": "code",
   "execution_count": 5,
   "metadata": {},
   "outputs": [],
   "source": [
    "# df = df.sample(frac=0.5)"
   ]
  },
  {
   "cell_type": "code",
   "execution_count": 6,
   "metadata": {},
   "outputs": [
    {
     "data": {
      "image/png": "[encoded data removed]",
      "text/plain": [
       "<Figure size 432x288 with 1 Axes>"
      ]
     },
     "metadata": {
      "needs_background": "light"
     },
     "output_type": "display_data"
    }
   ],
   "source": [
    "df['score'].value_counts().sort_index().plot(kind='bar', rot=0)\n",
    "plt.show()"
   ]
  },
  {
   "cell_type": "code",
   "execution_count": 7,
   "metadata": {},
   "outputs": [],
   "source": [
    "def stems_to_counts(df, vocab=None, min_doc_freq=0.05, max_doc_freq=0.95, binary_counts=False):  \n",
    "                                             # входной параметр: dataframe со столбцом stems, \n",
    "                                             # в скольких документах (шт/%) минимум встречается \n",
    "    if isinstance(min_doc_freq, float):\n",
    "        min_doc_freq = round(min_doc_freq * len(df))\n",
    "    \n",
    "    if isinstance(max_doc_freq, float):\n",
    "        max_doc_freq = round(max_doc_freq * len(df))\n",
    "\n",
    "    counters = df['stems'].apply(lambda x: Counter(x)).tolist()\n",
    "    bin_counters = [Counter({w: (1 if c > 0 else 0) for w, c in counters[i].items()}) \n",
    "                    for i in range(df.shape[0])]\n",
    "\n",
    "    if vocab is None:\n",
    "        total_counter     = Counter(counters[0])\n",
    "        total_bin_counter = Counter(bin_counters[0])\n",
    "        for i in range(1, len(counters)):\n",
    "            total_counter.update(counters[i])\n",
    "            total_bin_counter.update(bin_counters[i])\n",
    "            \n",
    "        vocab = [w for w, c in total_bin_counter.items() if min_doc_freq <= c <= max_doc_freq]\n",
    "    \n",
    "    if binary_counts:\n",
    "        counts = sp.csc_matrix([[bin_counters[i][v] for v in vocab] for i in range(len(bin_counters))])\n",
    "    else:\n",
    "        counts = sp.csc_matrix([[counters[i][v] for v in vocab] for i in range(len(counters))])\n",
    "    \n",
    "    return counts, vocab"
   ]
  },
  {
   "cell_type": "code",
   "execution_count": 8,
   "metadata": {},
   "outputs": [],
   "source": [
    "def train_test_split(df, test_size):\n",
    "    if isinstance(test_size, float):\n",
    "        test_size = round(test_size * len(df))\n",
    "\n",
    "    indices = df.index.tolist()\n",
    "    test_indices = random.sample(population=indices, k=test_size)\n",
    "\n",
    "    test_df = df.loc[test_indices]\n",
    "    train_df = df.drop(test_indices)\n",
    "\n",
    "    return train_df, test_df"
   ]
  },
  {
   "cell_type": "code",
   "execution_count": 9,
   "metadata": {},
   "outputs": [],
   "source": [
    "def get_and_select_poly_features(X, degree=2, include_interactions=True, vocab=None, min_doc_freq=0.05,\n",
    "                                 feature_names=None, features_inter_ind=None):\n",
    "    assert sp.issparse(X), 'Only sparse matrices are supported'\n",
    "    if isinstance(min_doc_freq, float):\n",
    "        min_doc_freq = round(min_doc_freq * X.shape[0])\n",
    "        \n",
    "    if feature_names is None:    \n",
    "        if vocab:\n",
    "            feature_names = np.array(vocab)\n",
    "        else:\n",
    "            feature_names = np.array(['w' + str(i) for i in range(X.shape[1])])\n",
    "            \n",
    "        feature_names_deg = []\n",
    "        for cur_degree in range(2, degree + 1):\n",
    "            for f in feature_names:\n",
    "                feature_names_deg.append(str(f) + '^' + str(cur_degree))\n",
    "        feature_names = np.append(feature_names, feature_names_deg)\n",
    "    \n",
    "    if include_interactions:  \n",
    "        inter = []\n",
    "        all_col_idx  = []\n",
    "        for cur_degree in range(2, degree + 1): # генерируем сочетания длины cur_degree\n",
    "            all_col_idx += list(itertools.combinations(range(X.shape[1]), cur_degree))\n",
    "        \n",
    "        if features_inter_ind:    # test\n",
    "            all_col_idx = np.array(all_col_idx)[features_inter_ind]\n",
    "            for col_idxs in tqdm_notebook(all_col_idx):\n",
    "                out = X[:, col_idxs[0]]\n",
    "                for j in col_idxs[1:]:\n",
    "                    out = out.multiply(X[:, j])\n",
    "                inter.append(out)\n",
    "                \n",
    "        else:                      # train\n",
    "            features_inter_ind = []\n",
    "            for i in tqdm_notebook(range(len(all_col_idx))):\n",
    "                col_idxs = all_col_idx[i]\n",
    "                # поэлементное перемножение столбцов из сочетания\n",
    "                skip = False\n",
    "                out = X[:, col_idxs[0]]\n",
    "                for j in col_idxs[1:]:\n",
    "                    out = out.multiply(X[:, j])\n",
    "                    if out.count_nonzero() < min_doc_freq:\n",
    "                        skip = True\n",
    "                        break\n",
    "\n",
    "                if not skip:\n",
    "                    inter.append(out)\n",
    "                    feature_names = np.append(feature_names, '*'.join(feature_names[list(col_idxs)]))\n",
    "                    features_inter_ind.append(i)\n",
    "\n",
    "        res = sp.hstack([X] + [X.power(d) for d in range(1, degree+1)] + inter)\n",
    "    else:\n",
    "        res = sp.hstack([X] + [X.power(d) for d in range(1, degree+1)])\n",
    "        \n",
    "    return res, feature_names, features_inter_ind"
   ]
  },
  {
   "cell_type": "code",
   "execution_count": 10,
   "metadata": {},
   "outputs": [
    {
     "data": {
      "text/plain": [
       "array([ 9, 12, 15])"
      ]
     },
     "execution_count": 10,
     "metadata": {},
     "output_type": "execute_result"
    }
   ],
   "source": [
    "np.arange(9).reshape((3,3)).sum(axis=0)"
   ]
  },
  {
   "cell_type": "code",
   "execution_count": 11,
   "metadata": {},
   "outputs": [],
   "source": [
    "def tf_idf(counts):\n",
    "    if sp.issparse(counts):\n",
    "        counts = counts.todense()\n",
    "    d = np.log(counts + 1)                           # 1. TF-преобразование (частота слова в документах)\n",
    "    r = np.log(d.shape[0] / ((d > 0).sum(axis=0)))   # 2. IDF преобразование (количество появлений каждого слова в документах)\n",
    "    d = np.multiply(d, r) \n",
    "    d = (d / np.sqrt((np.power(d, 2)).sum(axis=1)))  # 3. Нормализация на длину документов\n",
    "    return sp.csc_matrix(d)"
   ]
  },
  {
   "cell_type": "code",
   "execution_count": 12,
   "metadata": {},
   "outputs": [],
   "source": [
    "df_train, df_test = train_test_split(df, test_size=0.3)\n",
    "y_train, y_test = df_train['score'], df_test['score']"
   ]
  },
  {
   "cell_type": "code",
   "execution_count": 13,
   "metadata": {},
   "outputs": [
    {
     "name": "stdout",
     "output_type": "stream",
     "text": [
      "CPU times: user 1.31 s, sys: 30.6 ms, total: 1.35 s\n",
      "Wall time: 1.34 s\n"
     ]
    }
   ],
   "source": [
    "#new version\n",
    "%time counts_train, vocab = stems_to_counts(df_train, min_doc_freq=0.05, max_doc_freq=0.75)\n",
    "counts_test, _ = stems_to_counts(df_test, vocab=vocab)"
   ]
  },
  {
   "cell_type": "code",
   "execution_count": 12,
   "metadata": {},
   "outputs": [
    {
     "data": {
      "text/plain": [
       "696"
      ]
     },
     "execution_count": 12,
     "metadata": {},
     "output_type": "execute_result"
    }
   ],
   "source": [
    "len(vocab)"
   ]
  },
  {
   "cell_type": "code",
   "execution_count": 14,
   "metadata": {},
   "outputs": [
    {
     "name": "stdout",
     "output_type": "stream",
     "text": [
      "CPU times: user 116 ms, sys: 12.1 ms, total: 128 ms\n",
      "Wall time: 124 ms\n",
      "CPU times: user 48 ms, sys: 0 ns, total: 48 ms\n",
      "Wall time: 46.7 ms\n"
     ]
    }
   ],
   "source": [
    "%time counts_train_t = tf_idf(counts_train)\n",
    "%time counts_test_t = tf_idf(counts_test)"
   ]
  },
  {
   "cell_type": "code",
   "execution_count": 13,
   "metadata": {},
   "outputs": [
    {
     "data": {
      "application/vnd.jupyter.widget-view+json": {
       "model_id": "75457b4e65084c2aaa8148fd18bef087",
       "version_major": 2,
       "version_minor": 0
      },
      "text/plain": [
       "HBox(children=(IntProgress(value=0, max=239086), HTML(value='')))"
      ]
     },
     "metadata": {},
     "output_type": "display_data"
    },
    {
     "name": "stdout",
     "output_type": "stream",
     "text": [
      "\n",
      "CPU times: user 2min 9s, sys: 636 ms, total: 2min 10s\n",
      "Wall time: 2min 9s\n"
     ]
    }
   ],
   "source": [
    "%time counts_train2, features2, feat_int_ind = get_and_select_poly_features(counts_train,  min_doc_freq=0.05, vocab=vocab)"
   ]
  },
  {
   "cell_type": "code",
   "execution_count": 14,
   "metadata": {},
   "outputs": [
    {
     "data": {
      "application/vnd.jupyter.widget-view+json": {
       "model_id": "8662480630c44f05bc242d27f7796236",
       "version_major": 2,
       "version_minor": 0
      },
      "text/plain": [
       "HBox(children=(IntProgress(value=0, max=6470), HTML(value='')))"
      ]
     },
     "metadata": {},
     "output_type": "display_data"
    },
    {
     "name": "stdout",
     "output_type": "stream",
     "text": [
      "\n"
     ]
    }
   ],
   "source": [
    "counts_test2, _, _ = get_and_select_poly_features(counts_test, min_doc_freq=0.05, feature_names = features2, \n",
    "                                                  features_inter_ind = feat_int_ind)"
   ]
  },
  {
   "cell_type": "code",
   "execution_count": 13,
   "metadata": {},
   "outputs": [
    {
     "name": "stdout",
     "output_type": "stream",
     "text": [
      "len(vocab):   \t 696\n",
      "counts_train:\t (3144, 696)\n",
      "counts_test:\t (1348, 696)\n"
     ]
    },
    {
     "ename": "NameError",
     "evalue": "name 'counts_train2' is not defined",
     "output_type": "error",
     "traceback": [
      "\u001b[0;31m---------------------------------------------------------------------------\u001b[0m",
      "\u001b[0;31mNameError\u001b[0m                                 Traceback (most recent call last)",
      "\u001b[0;32m<ipython-input-13-173e576f644d>\u001b[0m in \u001b[0;36m<module>\u001b[0;34m\u001b[0m\n\u001b[1;32m      2\u001b[0m \u001b[0mprint\u001b[0m\u001b[0;34m(\u001b[0m\u001b[0;34m'counts_train:\\t'\u001b[0m\u001b[0;34m,\u001b[0m \u001b[0mcounts_train\u001b[0m\u001b[0;34m.\u001b[0m\u001b[0mshape\u001b[0m\u001b[0;34m)\u001b[0m\u001b[0;34m\u001b[0m\u001b[0;34m\u001b[0m\u001b[0m\n\u001b[1;32m      3\u001b[0m \u001b[0mprint\u001b[0m\u001b[0;34m(\u001b[0m\u001b[0;34m'counts_test:\\t'\u001b[0m\u001b[0;34m,\u001b[0m \u001b[0mcounts_test\u001b[0m\u001b[0;34m.\u001b[0m\u001b[0mshape\u001b[0m\u001b[0;34m)\u001b[0m\u001b[0;34m\u001b[0m\u001b[0;34m\u001b[0m\u001b[0m\n\u001b[0;32m----> 4\u001b[0;31m \u001b[0mprint\u001b[0m\u001b[0;34m(\u001b[0m\u001b[0;34m'counts_train2:\\t'\u001b[0m\u001b[0;34m,\u001b[0m \u001b[0mcounts_train2\u001b[0m\u001b[0;34m.\u001b[0m\u001b[0mshape\u001b[0m\u001b[0;34m)\u001b[0m\u001b[0;34m\u001b[0m\u001b[0;34m\u001b[0m\u001b[0m\n\u001b[0m\u001b[1;32m      5\u001b[0m \u001b[0mprint\u001b[0m\u001b[0;34m(\u001b[0m\u001b[0;34m'counts_test2:\\t'\u001b[0m\u001b[0;34m,\u001b[0m \u001b[0mcounts_test2\u001b[0m\u001b[0;34m.\u001b[0m\u001b[0mshape\u001b[0m\u001b[0;34m)\u001b[0m\u001b[0;34m\u001b[0m\u001b[0;34m\u001b[0m\u001b[0m\n",
      "\u001b[0;31mNameError\u001b[0m: name 'counts_train2' is not defined"
     ]
    }
   ],
   "source": [
    "print('len(vocab):   \\t', len(vocab))\n",
    "print('counts_train:\\t', counts_train.shape)\n",
    "print('counts_test:\\t', counts_test.shape)\n",
    "print('counts_train2:\\t', counts_train2.shape)\n",
    "print('counts_test2:\\t', counts_test2.shape)"
   ]
  },
  {
   "cell_type": "code",
   "execution_count": 16,
   "metadata": {},
   "outputs": [],
   "source": [
    "with open('kinopoisk_data2.pkl', 'wb') as f:\n",
    "    pickle.dump({'counts_train': counts_train, \n",
    "                 'counts_test' : counts_test, \n",
    "                 'vocab':        vocab, \n",
    "                 'counts_train2': counts_train2,\n",
    "                 'counts_test2' : counts_test2,\n",
    "                 'feature_names': features2, \n",
    "                 'y_train':       y_train,\n",
    "                 'y_test':        y_test}, f)"
   ]
  },
  {
   "cell_type": "markdown",
   "metadata": {},
   "source": [
    "# Load prepared data"
   ]
  },
  {
   "cell_type": "code",
   "execution_count": 14,
   "metadata": {},
   "outputs": [],
   "source": [
    "with open('kinopoisk_data.pkl', 'rb') as f:\n",
    "    kinopoisk_data = pickle.load(f)\n",
    "for k,v in kinopoisk_data.items(): exec(k+'=v')"
   ]
  },
  {
   "cell_type": "code",
   "execution_count": 15,
   "metadata": {
    "scrolled": true
   },
   "outputs": [
    {
     "ename": "NameError",
     "evalue": "name 'features2' is not defined",
     "output_type": "error",
     "traceback": [
      "\u001b[0;31m---------------------------------------------------------------------------\u001b[0m",
      "\u001b[0;31mNameError\u001b[0m                                 Traceback (most recent call last)",
      "\u001b[0;32m<ipython-input-15-4c1d6339a3f6>\u001b[0m in \u001b[0;36m<module>\u001b[0;34m\u001b[0m\n\u001b[0;32m----> 1\u001b[0;31m \u001b[0mfeatures2\u001b[0m\u001b[0;34m[\u001b[0m\u001b[0;34m-\u001b[0m\u001b[0;36m100\u001b[0m\u001b[0;34m:\u001b[0m\u001b[0;34m]\u001b[0m\u001b[0;34m\u001b[0m\u001b[0;34m\u001b[0m\u001b[0m\n\u001b[0m",
      "\u001b[0;31mNameError\u001b[0m: name 'features2' is not defined"
     ]
    }
   ],
   "source": [
    "features2[-100:]"
   ]
  },
  {
   "cell_type": "code",
   "execution_count": 14,
   "metadata": {},
   "outputs": [],
   "source": [
    "def add_intercept(X):\n",
    "    return sp.hstack([sp.csc_matrix(np.ones(shape=(X.shape[0], 1))), X])"
   ]
  },
  {
   "cell_type": "code",
   "execution_count": 15,
   "metadata": {},
   "outputs": [
    {
     "data": {
      "text/plain": [
       "<3144x698 sparse matrix of type '<class 'numpy.int64'>'\n",
       "\twith 239035 stored elements in Compressed Sparse Column format>"
      ]
     },
     "execution_count": 15,
     "metadata": {},
     "output_type": "execute_result"
    }
   ],
   "source": [
    "counts_train"
   ]
  },
  {
   "cell_type": "code",
   "execution_count": 16,
   "metadata": {
    "scrolled": true
   },
   "outputs": [],
   "source": [
    "counts_train_t1 = add_intercept(counts_train)\n",
    "counts_test_t1 = add_intercept(counts_test)"
   ]
  },
  {
   "cell_type": "code",
   "execution_count": null,
   "metadata": {},
   "outputs": [],
   "source": []
  },
  {
   "cell_type": "code",
   "execution_count": 39,
   "metadata": {},
   "outputs": [],
   "source": [
    "# predictions\n",
    "y_predict = counts_test_t1.todense() @ beta"
   ]
  },
  {
   "cell_type": "code",
   "execution_count": 34,
   "metadata": {},
   "outputs": [
    {
     "data": {
      "text/plain": [
       "10199136"
      ]
     },
     "execution_count": 34,
     "metadata": {},
     "output_type": "execute_result"
    }
   ],
   "source": [
    "(3144*811)*4"
   ]
  },
  {
   "cell_type": "code",
   "execution_count": null,
   "metadata": {},
   "outputs": [],
   "source": []
  },
  {
   "cell_type": "code",
   "execution_count": 32,
   "metadata": {},
   "outputs": [
    {
     "data": {
      "text/plain": [
       "0.0971360711338686"
      ]
     },
     "execution_count": 32,
     "metadata": {},
     "output_type": "execute_result"
    }
   ],
   "source": [
    "247676 /(3144*811)"
   ]
  },
  {
   "cell_type": "code",
   "execution_count": 56,
   "metadata": {},
   "outputs": [],
   "source": [
    "# X_train = add_intercept(tf_idf(counts_train))\n",
    "# X_test = add_intercept(tf_idf(counts_test))\n",
    "\n",
    "# X_train2 = add_intercept(get_poly_features(tf_idf(counts_train)))\n",
    "# X_test2  = add_intercept(get_poly_features(tf_idf(counts_test)))"
   ]
  },
  {
   "cell_type": "code",
   "execution_count": 52,
   "metadata": {},
   "outputs": [
    {
     "data": {
      "text/plain": [
       "(3144, 8620)"
      ]
     },
     "execution_count": 52,
     "metadata": {},
     "output_type": "execute_result"
    }
   ],
   "source": [
    "counts_train2.shape"
   ]
  },
  {
   "cell_type": "code",
   "execution_count": 17,
   "metadata": {},
   "outputs": [
    {
     "data": {
      "text/plain": [
       "(699, 1)"
      ]
     },
     "execution_count": 17,
     "metadata": {},
     "output_type": "execute_result"
    }
   ],
   "source": [
    "from scipy.sparse.linalg import lsqr\n",
    "beta = lsqr(A=counts_train_t1,  b=y_train)[0]\n",
    "beta.shape\n",
    "beta.reshape(-1, 1).shape"
   ]
  },
  {
   "cell_type": "code",
   "execution_count": 18,
   "metadata": {},
   "outputs": [
    {
     "data": {
      "text/plain": [
       "array([ 6.81533893,  0.10365542,  0.0761832 ,  0.15831193,  0.17318517, -0.01087247,  0.17364464, -0.03558391,\n",
       "       -0.09547608,  0.02624305])"
      ]
     },
     "execution_count": 18,
     "metadata": {},
     "output_type": "execute_result"
    }
   ],
   "source": [
    "beta[:10]"
   ]
  },
  {
   "cell_type": "code",
   "execution_count": 19,
   "metadata": {},
   "outputs": [
    {
     "data": {
      "text/plain": [
       "<1348x699 sparse matrix of type '<class 'numpy.float64'>'\n",
       "\twith 103911 stored elements in Compressed Sparse Column format>"
      ]
     },
     "execution_count": 19,
     "metadata": {},
     "output_type": "execute_result"
    }
   ],
   "source": [
    "counts_test_t1"
   ]
  },
  {
   "cell_type": "code",
   "execution_count": 20,
   "metadata": {},
   "outputs": [
    {
     "name": "stdout",
     "output_type": "stream",
     "text": [
      "0.4897055156908563\n",
      "0.0\n"
     ]
    }
   ],
   "source": [
    "# import numpy as np\n",
    "from sklearn.linear_model import LinearRegression\n",
    "reg = LinearRegression(fit_intercept=False).fit(counts_train_t1, y_train)\n",
    "print(reg.score(counts_train_t1, y_train))\n",
    "# print(reg.coef_)\n",
    "print(reg.intercept_)"
   ]
  },
  {
   "cell_type": "code",
   "execution_count": 21,
   "metadata": {},
   "outputs": [
    {
     "data": {
      "text/plain": [
       "array([ 6.81533893,  0.10365542,  0.0761832 ,  0.15831193,  0.17318517, -0.01087247,  0.17364464, -0.03558391,\n",
       "       -0.09547608,  0.02624305])"
      ]
     },
     "execution_count": 21,
     "metadata": {},
     "output_type": "execute_result"
    }
   ],
   "source": [
    "reg.coef_[:10]"
   ]
  },
  {
   "cell_type": "code",
   "execution_count": 22,
   "metadata": {},
   "outputs": [],
   "source": [
    "def mse(y_test, y_hat):\n",
    "    return np.mean((y_test - y_hat)**2)"
   ]
  },
  {
   "cell_type": "code",
   "execution_count": 23,
   "metadata": {},
   "outputs": [
    {
     "name": "stdout",
     "output_type": "stream",
     "text": [
      "3.945722600734272\n"
     ]
    }
   ],
   "source": [
    "from sklearn.metrics import mean_squared_error\n",
    "y_hat = reg.predict(counts_test_t1)\n",
    "print(mean_squared_error(y_test, y_hat))"
   ]
  },
  {
   "cell_type": "code",
   "execution_count": 24,
   "metadata": {},
   "outputs": [
    {
     "data": {
      "text/plain": [
       "array([6.92278311, 4.71072826, 6.16220675, ..., 9.4397846 , 8.31974412, 6.73984029])"
      ]
     },
     "execution_count": 24,
     "metadata": {},
     "output_type": "execute_result"
    }
   ],
   "source": [
    "y_hat"
   ]
  },
  {
   "cell_type": "code",
   "execution_count": 25,
   "metadata": {},
   "outputs": [
    {
     "name": "stdout",
     "output_type": "stream",
     "text": [
      "3.945722600734272\n"
     ]
    }
   ],
   "source": [
    "print(mse(y_test, y_hat))"
   ]
  },
  {
   "cell_type": "code",
   "execution_count": 26,
   "metadata": {},
   "outputs": [
    {
     "data": {
      "image/png": "[encoded data removed]",
      "text/plain": [
       "<Figure size 720x720 with 1 Axes>"
      ]
     },
     "metadata": {
      "needs_background": "light"
     },
     "output_type": "display_data"
    }
   ],
   "source": [
    "plt.figure(figsize=(10, 10))\n",
    "plt.scatter(y_test, y_hat)\n",
    "plt.xlim((0, 11))\n",
    "plt.ylim((0, 11))\n",
    "plt.show()"
   ]
  },
  {
   "cell_type": "code",
   "execution_count": null,
   "metadata": {},
   "outputs": [],
   "source": []
  }
 ],
 "metadata": {
  "kernelspec": {
   "display_name": "Python 3",
   "language": "python",
   "name": "python3"
  },
  "language_info": {
   "codemirror_mode": {
    "name": "ipython",
    "version": 3
   },
   "file_extension": ".py",
   "mimetype": "text/x-python",
   "name": "python",
   "nbconvert_exporter": "python",
   "pygments_lexer": "ipython3",
   "version": "3.6.7"
  }
 },
 "nbformat": 4,
 "nbformat_minor": 2
}
