{
 "cells": [
  {
   "cell_type": "code",
   "execution_count": 1,
   "metadata": {},
   "outputs": [],
   "source": [
    "import random\n",
    "from tqdm import tqdm_notebook\n",
    "from time import time\n",
    "import pandas as pd\n",
    "import seaborn as sns\n",
    "import matplotlib.pyplot as plt\n",
    "import re\n",
    "import numpy as np"
   ]
  },
  {
   "cell_type": "code",
   "execution_count": 2,
   "metadata": {},
   "outputs": [],
   "source": [
    "class EllipticCurveGF:\n",
    "    def __init__(self, a, b, p):\n",
    "        assert (4*a**3 + 27*b**2) % p != 0\n",
    "        self.a = a\n",
    "        self.b = b\n",
    "        self.p = p\n",
    "        \n",
    "    def __str__(self):\n",
    "        return 'y^2 = x^3 + {}x + {} [{}]'.format(self.a, self.b, self.p)\n",
    "    \n",
    "    def __repr__(self):\n",
    "        return self.__str__()\n",
    "    \n",
    "    def contains(self, pt):\n",
    "        return (pt.y**2 - pt.x**3 - self.a * pt.x - self.b) % self.p == 0\n",
    "    \n",
    "    def points(self):\n",
    "        for x in range(0, self.p):\n",
    "            for y in range(0, self.p):\n",
    "                pt = PointGF(x, y, self)\n",
    "                if self.contains(pt):\n",
    "                    yield pt\n",
    "        yield PointGF(0, 0, self)         \n",
    "        "
   ]
  },
  {
   "cell_type": "code",
   "execution_count": 3,
   "metadata": {},
   "outputs": [],
   "source": [
    "class PointGF:\n",
    "    def __init__(self, x, y, ec):\n",
    "        self.ec = ec\n",
    "        self.p = ec.p\n",
    "        self.x = x\n",
    "        self.y = y\n",
    "        \n",
    "    def __str__(self):\n",
    "        return '({}, {}) [{}]'.format(self.x, self.y, self.p)\n",
    "    \n",
    "    def __repr__(self):\n",
    "        return self.__str__()\n",
    "    \n",
    "    def zero(self):\n",
    "        return PointGF(x=0, y=0, ec = self.ec)\n",
    "    \n",
    "    def __neg__(self):\n",
    "        return PointGF(self.x, -self.y % self.p, self.ec)\n",
    "    \n",
    "    def __eq__(self, other):\n",
    "        assert self.p == other.p\n",
    "        return self.x == other.x and self.y == other.y\n",
    "    \n",
    "    def __add__(self, other):\n",
    "        assert self.p == other.p\n",
    "        Z  = self.zero()\n",
    "        if self == Z:\n",
    "            return other\n",
    "        elif other == Z:\n",
    "            return self\n",
    "        elif self.x == other.x and self.y != other.y:\n",
    "            return Z\n",
    "\n",
    "        if self != other:\n",
    "            m = ((self.y - other.y) * self._inv(self.x - other.x)) % self.p\n",
    "        else:\n",
    "            m = ((3 * self.x ** 2 + (ec.a % self.p)) * self._inv(2 * self.y)) % self.p\n",
    "        xR = (m ** 2 - self.x - other.x) % self.p\n",
    "        yR = (other.y + m * (xR - other.x)) % self.p\n",
    "        return PointGF(xR, -yR % self.p, self.ec)\n",
    "    \n",
    "    def _inv(self, n):\n",
    "        gcd, x, y = self._extended_euclidean_algorithm(n, self.p)\n",
    "        assert (n * x + self.p * y) % self.p == gcd, 'n, p = {}, {}\\ngcd, x, y = {}, {}, {}\\n{} % {} == {}'.format(\n",
    "            n, self.p, gcd, x, y, n * x + self.p * y, self.p, gcd)\n",
    "\n",
    "        if gcd != 1:\n",
    "            # Или n равно 0, или p не является простым.\n",
    "            raise ValueError(\n",
    "                '{} has no multiplicative inverse '\n",
    "                'modulo {}'.format(n, self.p))\n",
    "        else:\n",
    "            return x % self.p\n",
    "        \n",
    "    def _extended_euclidean_algorithm(self, a, b):\n",
    "        s, old_s = 0, 1\n",
    "        t, old_t = 1, 0\n",
    "        r, old_r = b, a\n",
    "\n",
    "        while r != 0:\n",
    "            quotient = old_r // r\n",
    "            old_r, r = r, old_r - quotient * r\n",
    "            old_s, s = s, old_s - quotient * s\n",
    "            old_t, t = t, old_t - quotient * t\n",
    "\n",
    "        return old_r, old_s, old_t\n",
    "    \n",
    "    def order(self):\n",
    "        i = 1\n",
    "        temp = self \n",
    "        while temp != self.zero():\n",
    "            temp = self + temp \n",
    "            i += 1\n",
    "        return i"
   ]
  },
  {
   "cell_type": "code",
   "execution_count": 10,
   "metadata": {},
   "outputs": [
    {
     "data": {
      "text/plain": [
       "y^2 = x^3 + 5x + 7 [31]"
      ]
     },
     "execution_count": 10,
     "metadata": {},
     "output_type": "execute_result"
    }
   ],
   "source": [
    "ec = EllipticCurveGF(a=5, b=7, p=31)\n",
    "print(\"Check test:\", ec)"
   ]
  },
  {
   "cell_type": "code",
   "execution_count": 5,
   "metadata": {},
   "outputs": [
    {
     "data": {
      "text/plain": [
       "(22, 15) [31]"
      ]
     },
     "execution_count": 5,
     "metadata": {},
     "output_type": "execute_result"
    }
   ],
   "source": [
    "a = PointGF(x=22, y=15, ec=ec)\n",
    "print(\"P:\", a)"
   ]
  },
  {
   "cell_type": "code",
   "execution_count": 6,
   "metadata": {},
   "outputs": [
    {
     "data": {
      "text/plain": [
       "(12, 11) [31]"
      ]
     },
     "execution_count": 6,
     "metadata": {},
     "output_type": "execute_result"
    }
   ],
   "source": [
    "b = PointGF(x=12, y=11, ec=ec)\n",
    "print(\"Q:\", b)"
   ]
  },
  {
   "cell_type": "code",
   "execution_count": 7,
   "metadata": {},
   "outputs": [
    {
     "data": {
      "text/plain": [
       "(17, 18) [31]"
      ]
     },
     "execution_count": 7,
     "metadata": {},
     "output_type": "execute_result"
    }
   ],
   "source": [
    "print(\"Addition:\", a + b)"
   ]
  },
  {
   "cell_type": "code",
   "execution_count": 8,
   "metadata": {},
   "outputs": [
    {
     "data": {
      "text/plain": [
       "9"
      ]
     },
     "execution_count": 8,
     "metadata": {},
     "output_type": "execute_result"
    }
   ],
   "source": [
    "print(\"Order P:\", a.order())"
   ]
  },
  {
   "cell_type": "code",
   "execution_count": 4,
   "metadata": {},
   "outputs": [],
   "source": [
    "def lowest_set_bit(a):  # вычисляет номер самого младшего бита равного 1\n",
    "    b = (a & -a)\n",
    "    low_bit = -1\n",
    "    while (b):\n",
    "        b >>= 1\n",
    "        low_bit += 1\n",
    "    return low_bit\n",
    "\n",
    "def to_bits(k):\n",
    "    \"\"\"Вернуть генератор, который возвращает биты k, начиная с младшего бита, используя True для 1s и False для 0s.\"\"\"\n",
    "    k_binary = bin(k)[2:]\n",
    "    return (bit == '1' for bit in k_binary[::-1])\n",
    "\n",
    "def pow_mod(a, k, m):\n",
    "    \"\"\"Возвращает a^k mod m.\"\"\"\n",
    "    r = 1\n",
    "    b = a\n",
    "    for bit in to_bits(k):\n",
    "        if bit:\n",
    "            r = (r * b) % m\n",
    "        b = (b * b) % m\n",
    "    return r\n",
    "\n",
    "def primality_test_miller_rabin(a, MILLER_RABIN_ITERATIONS=20):\n",
    "    if a == 2:\n",
    "        return True\n",
    "    if a == 1 or a % 2 == 0:\n",
    "        return False\n",
    "    \n",
    "    m = a - 1\n",
    "    lb = lowest_set_bit(m)\n",
    "    m >>= lb  # побитовый сдвиг вправо на lb бит -- т.е. lb раз делим нацело на 2.\n",
    "\n",
    "    for _ in range(MILLER_RABIN_ITERATIONS):\n",
    "        b = random.randint(2, a - 1)\n",
    "        j = 0\n",
    "        z = pow_mod(b, m, a)\n",
    "        while not ((j == 0 and z == 1) or z == a - 1):\n",
    "            if j > 0 and z == 1 or j + 1 == lb:\n",
    "                return False\n",
    "            j += 1\n",
    "            z = (z * z) % a\n",
    "    return True"
   ]
  },
  {
   "cell_type": "code",
   "execution_count": 11,
   "metadata": {},
   "outputs": [
    {
     "name": "stdout",
     "output_type": "stream",
     "text": [
      "51706750 56448163\n",
      "\n",
      "p = 2\n",
      "..........\n",
      "p = 3\n",
      "..........\n",
      "p = 4\n",
      "..........\n",
      "p = 5\n",
      "..........\n",
      "p = 6\n",
      ".........."
     ]
    }
   ],
   "source": [
    "random.seed(0)\n",
    "a=random.randint(1, 10**8)\n",
    "b=random.randint(1, 10**8)\n",
    "print(a, b)\n",
    "res = pd.DataFrame(columns=['p', 't', 'order'])\n",
    "for p in range(2, 7):\n",
    "    print('\\np =', p)\n",
    "    pp = 10**p + 1\n",
    "    pts_cnt = 0\n",
    "    while pts_cnt < 10:\n",
    "        if primality_test_miller_rabin(pp):\n",
    "            try:\n",
    "                ec = EllipticCurveGF(a, b, pp)\n",
    "                pt = next(ec.points())\n",
    "                start = time()\n",
    "                order = pt.order()\n",
    "                res = res.append({'p': pp, 't' : time() - start, 'order': order}, ignore_index=True)\n",
    "                pts_cnt += 1\n",
    "                print('.', end='')\n",
    "            except:\n",
    "                pass\n",
    "        pp += 2\n"
   ]
  },
  {
   "cell_type": "code",
   "execution_count": 13,
   "metadata": {},
   "outputs": [
    {
     "data": {
      "text/plain": [
       "y^2 = x^3 + 5x + 7 [31]"
      ]
     },
     "execution_count": 13,
     "metadata": {},
     "output_type": "execute_result"
    }
   ],
   "source": [
    "ec"
   ]
  },
  {
   "cell_type": "code",
   "execution_count": 13,
   "metadata": {},
   "outputs": [
    {
     "data": {
      "image/png": "[encoded data removed]",
      "text/plain": [
       "<Figure size 432x288 with 1 Axes>"
      ]
     },
     "metadata": {},
     "output_type": "display_data"
    }
   ],
   "source": [
    "sns.set()\n",
    "sns.set(font_scale=1.1)\n",
    "sns.scatterplot(data=res, x='p', y='t', hue='order')\n",
    "plt.xscale('log')"
   ]
  },
  {
   "cell_type": "code",
   "execution_count": null,
   "metadata": {},
   "outputs": [],
   "source": [
    "def test_points(a, b, p_start, n_pts=100):\n",
    "    res = pd.DataFrame(columns=['p', 't', 'order', 'pt'])\n",
    "    if p_start % 2 == 0:\n",
    "        p_start += 1\n",
    "    pp = p_start\n",
    "    while True:\n",
    "        pp += 2\n",
    "        p_is_prime = primality_test_miller_rabin(pp)\n",
    "        if p_is_prime:\n",
    "            try:\n",
    "                ec = EllipticCurveGF(a, b, pp)\n",
    "                pts = ec.points()\n",
    "                print('\\np = ', pp, ec)\n",
    "                pts_cnt = 0\n",
    "                while pts_cnt < n_pts:\n",
    "                    pt = next(pts)\n",
    "                    start = time()\n",
    "                    try:\n",
    "                        order = pt.order()\n",
    "                    except:\n",
    "                        continue\n",
    "                    x = pp*random.uniform(0.9, 1.1)\n",
    "                    res = res.append({'p': pp, 'x': x, 'pt': pt, 't' : time() - start, 'order': order+0.0}, ignore_index=True)\n",
    "                    print('.', end='')\n",
    "                    pts_cnt += 1\n",
    "                break\n",
    "            except:\n",
    "                continue\n",
    "            \n",
    "    return res"
   ]
  },
  {
   "cell_type": "code",
   "execution_count": null,
   "metadata": {},
   "outputs": [],
   "source": [
    "del ec"
   ]
  },
  {
   "cell_type": "code",
   "execution_count": null,
   "metadata": {},
   "outputs": [],
   "source": [
    "a=random.randint(1, 10**8)\n",
    "b=random.randint(1, 10**8)\n",
    "print(a, b)\n",
    "res = pd.DataFrame()\n",
    "for p in range(1, 7):\n",
    "    res = res.append(test_points(a, b, 2**p + random.randint(10, 100), 10), ignore_index=True)"
   ]
  },
  {
   "cell_type": "code",
   "execution_count": 42,
   "metadata": {},
   "outputs": [
    {
     "data": {
      "image/png": "[encoded data removed]",
      "text/plain": [
       "<Figure size 864x432 with 1 Axes>"
      ]
     },
     "metadata": {},
     "output_type": "display_data"
    }
   ],
   "source": [
    "sns.set(font_scale=1.1)\n",
    "plt.figure(figsize=(12, 6))\n",
    "ax = sns.scatterplot(data=res, x='x', y='t', hue='order', palette='plasma')#,  palette=sns.light_palette(\"purple\"))\n",
    "box = ax.get_position()\n",
    "ax.set_position([box.x0, box.y0, box.width * 0.8, box.height])\n",
    "ax.legend(loc='center left', bbox_to_anchor=(1, 0.5))\n",
    "# ax.set_xticks([10**3, 10**4])\n",
    "ax.set_xlabel('p')\n",
    "plt.xscale('log')\n",
    "plt.show()"
   ]
  },
  {
   "cell_type": "code",
   "execution_count": 44,
   "metadata": {},
   "outputs": [
    {
     "name": "stdout",
     "output_type": "stream",
     "text": [
      "\n",
      "p =  60000047\n",
      ".............................."
     ]
    }
   ],
   "source": [
    "res2 = test_points(a, b, int(6e7) + random.randint(10, 100), 30)"
   ]
  },
  {
   "cell_type": "code",
   "execution_count": 45,
   "metadata": {},
   "outputs": [
    {
     "data": {
      "image/png": "[encoded data removed]",
      "text/plain": [
       "<Figure size 216x432 with 1 Axes>"
      ]
     },
     "metadata": {},
     "output_type": "display_data"
    }
   ],
   "source": [
    "sns.set(font_scale=1.1)\n",
    "plt.figure(figsize=(3, 6))\n",
    "ax = sns.scatterplot(data=res2, x='x', y='t', hue='order', palette='plasma')#,  palette=sns.light_palette(\"purple\"))\n",
    "box = ax.get_position()\n",
    "ax.set_position([box.x0, box.y0, box.width * 0.8, box.height])\n",
    "ax.legend(loc='center left', bbox_to_anchor=(1, 0.5))\n",
    "ax.set_xticks([])\n",
    "ax.set_xlabel('p = 60000103')\n",
    "# plt.xscale('log')\n",
    "plt.show()"
   ]
  },
  {
   "cell_type": "code",
   "execution_count": null,
   "metadata": {},
   "outputs": [],
   "source": [
    "t (sec) = p * 10^-5\n",
    "600 = p*10^-5  -> p = 600*10^5 = 6*10^7 -> 10^8"
   ]
  },
  {
   "cell_type": "code",
   "execution_count": 10,
   "metadata": {},
   "outputs": [
    {
     "name": "stdout",
     "output_type": "stream",
     "text": [
      "51706750 56448163\n",
      "\n",
      "p = 9\n",
      "1000000007 3037.0296528339386 166674756\n",
      "1000000009 4608.320670604706 249986783\n",
      "1000000021 2499.7147924900055 125001338\n"
     ]
    }
   ],
   "source": [
    "random.seed(0)\n",
    "a=random.randint(1, 10**8)\n",
    "b=random.randint(1, 10**8)\n",
    "print(a, b)\n",
    "res = pd.DataFrame(columns=['p', 't', 'order'])\n",
    "p = 9\n",
    "print('\\np =', p)\n",
    "pp = 10**p + 1\n",
    "pts_cnt = 0\n",
    "while pts_cnt < 3:\n",
    "    if primality_test_miller_rabin(pp):\n",
    "        try:\n",
    "            ec = EllipticCurveGF(a, b, pp)\n",
    "            pt = next(ec.points())\n",
    "            start = time()\n",
    "            order = pt.order()\n",
    "            t = time() - start\n",
    "            res = res.append({'p': pp, 't' : t, 'order': order}, ignore_index=True)\n",
    "            pts_cnt += 1\n",
    "            print(pp, t, order)\n",
    "        except:\n",
    "            pass\n",
    "    pp += 2"
   ]
  },
  {
   "cell_type": "code",
   "execution_count": 11,
   "metadata": {},
   "outputs": [
    {
     "data": {
      "image/png": "[encoded data removed]",
      "text/plain": [
       "<Figure size 432x288 with 1 Axes>"
      ]
     },
     "metadata": {},
     "output_type": "display_data"
    }
   ],
   "source": [
    "sns.set()\n",
    "sns.set(font_scale=1.1)\n",
    "sns.scatterplot(data=res, x='p', y='t', hue='order')\n",
    "plt.xscale('log')"
   ]
  },
  {
   "cell_type": "code",
   "execution_count": 11,
   "metadata": {},
   "outputs": [
    {
     "data": {
      "image/png": "[encoded data removed]",
      "text/plain": [
       "<Figure size 432x288 with 1 Axes>"
      ]
     },
     "metadata": {},
     "output_type": "display_data"
    }
   ],
   "source": [
    "sns.set()\n",
    "sns.set(font_scale=1.1)\n",
    "sns.scatterplot(data=res, x='p', y='t', hue='order')\n",
    "plt.xscale('log')"
   ]
  },
  {
   "cell_type": "code",
   "execution_count": 11,
   "metadata": {},
   "outputs": [
    {
     "name": "stdout",
     "output_type": "stream",
     "text": [
      "51706750 56448163\n",
      "\n",
      "p = 8\n",
      "50000017 508.67642855644226 24999476\n",
      "50000021 343.836056470871 16668358\n",
      "50000047 989.5726745128632 50005814\n"
     ]
    }
   ],
   "source": [
    "random.seed(0)\n",
    "a=random.randint(1, 10**8)\n",
    "b=random.randint(1, 10**8)\n",
    "print(a, b)\n",
    "res = pd.DataFrame(columns=['p', 't', 'order'])\n",
    "p = 8\n",
    "print('\\np =', p)\n",
    "pp = (10**p)//2 + 1\n",
    "pts_cnt = 0\n",
    "while pts_cnt < 3:\n",
    "    if primality_test_miller_rabin(pp):\n",
    "        try:\n",
    "            ec = EllipticCurveGF(a, b, pp)\n",
    "            pt = next(ec.points())\n",
    "            start = time()\n",
    "            order = pt.order()\n",
    "            t = time() - start\n",
    "            res = res.append({'p': pp, 't' : t, 'order': order}, ignore_index=True)\n",
    "            pts_cnt += 1\n",
    "            print(pp, t, order)\n",
    "        except:\n",
    "            pass\n",
    "    pp += 2"
   ]
  },
  {
   "cell_type": "code",
   "execution_count": 12,
   "metadata": {},
   "outputs": [
    {
     "data": {
      "image/png": "[encoded data removed]",
      "text/plain": [
       "<Figure size 432x288 with 1 Axes>"
      ]
     },
     "metadata": {},
     "output_type": "display_data"
    }
   ],
   "source": [
    "sns.set()\n",
    "sns.set(font_scale=1.1)\n",
    "sns.scatterplot(data=res, x='p', y='t', hue='order')\n",
    "plt.xscale('log')"
   ]
  },
  {
   "cell_type": "code",
   "execution_count": 11,
   "metadata": {},
   "outputs": [
    {
     "name": "stdout",
     "output_type": "stream",
     "text": [
      "51706750 56448163\n",
      "\n",
      "p = 8\n",
      "70000027 1302.0471844673157 69993057\n",
      "70000037 25.054821968078613 1272570\n",
      "70000043 1328.6629498004913 70016127\n"
     ]
    }
   ],
   "source": [
    "random.seed(0)\n",
    "a=random.randint(1, 10**8)\n",
    "b=random.randint(1, 10**8)\n",
    "print(a, b)\n",
    "res = pd.DataFrame(columns=['p', 't', 'order'])\n",
    "p = 8\n",
    "print('\\np =', p)\n",
    "pp = (10**p)//2 + 20000000 + 1\n",
    "pts_cnt = 0\n",
    "while pts_cnt < 3:\n",
    "    if primality_test_miller_rabin(pp):\n",
    "        try:\n",
    "            ec = EllipticCurveGF(a, b, pp)\n",
    "            pt = next(ec.points())\n",
    "            start = time()\n",
    "            order = pt.order()\n",
    "            t = time() - start\n",
    "            res = res.append({'p': pp, 't' : t, 'order': order}, ignore_index=True)\n",
    "            pts_cnt += 1\n",
    "            print(pp, t, order)\n",
    "        except:\n",
    "            pass\n",
    "    pp += 2"
   ]
  },
  {
   "cell_type": "code",
   "execution_count": null,
   "metadata": {},
   "outputs": [],
   "source": []
  }
 ],
 "metadata": {
  "kernelspec": {
   "display_name": "Python 3 (ipykernel)",
   "language": "python",
   "name": "python3"
  },
  "language_info": {
   "codemirror_mode": {
    "name": "ipython",
    "version": 3
   },
   "file_extension": ".py",
   "mimetype": "text/x-python",
   "name": "python",
   "nbconvert_exporter": "python",
   "pygments_lexer": "ipython3",
   "version": "3.6.9"
  }
 },
 "nbformat": 4,
 "nbformat_minor": 2
}
