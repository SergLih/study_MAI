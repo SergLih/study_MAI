{
 "cells": [
  {
   "cell_type": "code",
   "execution_count": 1,
   "metadata": {},
   "outputs": [],
   "source": [
    "from bs4 import BeautifulSoup\n",
    "import re\n",
    "from tqdm import tqdm\n",
    "import pandas as pd"
   ]
  },
  {
   "cell_type": "code",
   "execution_count": 2,
   "metadata": {},
   "outputs": [],
   "source": [
    "from datetime import datetime\n",
    "import locale\n",
    "locale.setlocale(locale.LC_ALL, '')\n",
    "\n",
    "def replace_month(month_gen):\n",
    "    if month_gen == 'мая':\n",
    "        return 'май'\n",
    "    else:\n",
    "        return month_gen[:3]\n",
    "\n",
    "def parse_ru_datetime(s):\n",
    "    s = s.split()\n",
    "    s[1] = replace_month(s[1])\n",
    "    s = ' '.join(s)\n",
    "    return datetime.strptime(s, '%d %b %Y | %H:%M')"
   ]
  },
  {
   "cell_type": "code",
   "execution_count": 3,
   "metadata": {},
   "outputs": [],
   "source": [
    "def clean_text(text):\n",
    "    return text.replace('\\n', ' ').replace('\\xa0', ' ')"
   ]
  },
  {
   "cell_type": "code",
   "execution_count": 4,
   "metadata": {},
   "outputs": [],
   "source": [
    "def parse_score(s):\n",
    "    try:\n",
    "        return int(next(re.finditer('\\d+ из \\d+', s))[0].split()[0])\n",
    "    except:\n",
    "        return 0"
   ]
  },
  {
   "cell_type": "code",
   "execution_count": 78,
   "metadata": {},
   "outputs": [],
   "source": [
    "s = 'кплщкопшщуокп выалывжа вкпщшокщп вчмшгор98ыуе цуп из ывашщывоащ 3 из 10 ывджалвыж из 10'"
   ]
  },
  {
   "cell_type": "code",
   "execution_count": 72,
   "metadata": {},
   "outputs": [],
   "source": [
    "s = 'sdfsdfdsf'"
   ]
  },
  {
   "cell_type": "code",
   "execution_count": 81,
   "metadata": {},
   "outputs": [
    {
     "data": {
      "text/plain": [
       "3"
      ]
     },
     "execution_count": 81,
     "metadata": {},
     "output_type": "execute_result"
    }
   ],
   "source": [
    "parse_score(s)"
   ]
  },
  {
   "cell_type": "code",
   "execution_count": 8,
   "metadata": {},
   "outputs": [
    {
     "data": {
      "text/plain": [
       "'C:\\\\Users\\\\Sergey\\\\Desktop\\\\Лихарев Сергей\\\\МАИ\\\\Информатика\\\\AI\\\\AI\\\\kinopoisk\\\\good'"
      ]
     },
     "execution_count": 8,
     "metadata": {},
     "output_type": "execute_result"
    }
   ],
   "source": [
    "%pwd"
   ]
  },
  {
   "cell_type": "code",
   "execution_count": 49,
   "metadata": {},
   "outputs": [
    {
     "name": "stdout",
     "output_type": "stream",
     "text": [
      "C:\\Users\\Sergey\\Desktop\\Лихарев Сергей\\МАИ\\Информатика\\AI\\kinopoisk\\neutral\n"
     ]
    }
   ],
   "source": [
    "%cd ../neutral"
   ]
  },
  {
   "cell_type": "code",
   "execution_count": 50,
   "metadata": {},
   "outputs": [
    {
     "name": "stdout",
     "output_type": "stream",
     "text": [
      "8\n"
     ]
    }
   ],
   "source": [
    "files = ! dir /B .\n",
    "print(len(files))"
   ]
  },
  {
   "cell_type": "code",
   "execution_count": 52,
   "metadata": {
    "scrolled": false
   },
   "outputs": [
    {
     "name": "stderr",
     "output_type": "stream",
     "text": [
      "0it [00:00, ?it/s]\n",
      "0it [00:00, ?it/s]\n",
      "100%|██████████████████████████████████████████████████████████████████████████████| 198/198 [00:00<00:00, 1090.64it/s]\n",
      "0it [00:00, ?it/s]\n",
      "0it [00:00, ?it/s]\n",
      "100%|██████████████████████████████████████████████████████████████████████████████| 198/198 [00:00<00:00, 1102.91it/s]\n",
      "0it [00:00, ?it/s]\n",
      "0it [00:00, ?it/s]\n",
      "100%|██████████████████████████████████████████████████████████████████████████████| 122/122 [00:00<00:00, 1019.39it/s]\n",
      "0it [00:00, ?it/s]\n",
      "0it [00:00, ?it/s]\n",
      "100%|██████████████████████████████████████████████████████████████████████████████| 198/198 [00:00<00:00, 1123.27it/s]\n",
      "0it [00:00, ?it/s]\n",
      "0it [00:00, ?it/s]\n",
      "100%|██████████████████████████████████████████████████████████████████████████████| 198/198 [00:00<00:00, 1061.65it/s]\n",
      "0it [00:00, ?it/s]\n",
      "0it [00:00, ?it/s]\n",
      "100%|█████████████████████████████████████████████████████████████████████████████████| 33/33 [00:00<00:00, 807.09it/s]\n",
      "0it [00:00, ?it/s]\n",
      "0it [00:00, ?it/s]\n",
      "100%|██████████████████████████████████████████████████████████████████████████████| 198/198 [00:00<00:00, 1073.13it/s]\n",
      "0it [00:00, ?it/s]\n",
      "0it [00:00, ?it/s]\n",
      "100%|██████████████████████████████████████████████████████████████████████████████| 198/198 [00:00<00:00, 1096.86it/s]\n"
     ]
    }
   ],
   "source": [
    "import io\n",
    "def parse_info(review):\n",
    "    d = dict()\n",
    "    d['movie_title']        = review.select('p.film span')[0].text\n",
    "    try:\n",
    "        d['date']  = parse_ru_datetime(\n",
    "                            review.select('span.date')[0].text)\n",
    "    except:\n",
    "        return None\n",
    "    tmp = review.select('ul.useful li')[2].text.split(' / ')\n",
    "    d['useful']       = int(tmp[0])\n",
    "    d['not_useful']   = int(tmp[1])\n",
    "    d['title'] = clean_text(review.select('p.sub_title')[0].text)\n",
    "    d['text']  = clean_text(review.find('span', itemprop='reviewBody').text)\n",
    "    d['score'] = parse_score(d['text'])\n",
    "    return d\n",
    "\n",
    "\n",
    "list_of_reviews = []\n",
    "for file in files:\n",
    "    with io.open(file, encoding='utf-8', errors='ignore') as f:\n",
    "        content = f.read()\n",
    "        soup = BeautifulSoup(content, 'html.parser')\n",
    "        for review in tqdm(soup.select('div.response.bad')[2:]):\n",
    "            d = parse_info(review)\n",
    "            if d:\n",
    "                d['cat'] = 'bad'\n",
    "                list_of_reviews.append(d)\n",
    "        for review in tqdm(soup.select('div.response.good')[2:]):\n",
    "            d = parse_info(review)\n",
    "            if d:\n",
    "                d['cat'] = 'good'\n",
    "                list_of_reviews.append(d)\n",
    "        for review in tqdm(soup.select('div.response')[2:]):\n",
    "            d = parse_info(review)\n",
    "            if d:\n",
    "                d['cat'] = 'neutral'\n",
    "                list_of_reviews.append(d)\n",
    "    #             print(review.text)"
   ]
  },
  {
   "cell_type": "code",
   "execution_count": 53,
   "metadata": {},
   "outputs": [
    {
     "data": {
      "text/html": [
       "<div>\n",
       "<style scoped>\n",
       "    .dataframe tbody tr th:only-of-type {\n",
       "        vertical-align: middle;\n",
       "    }\n",
       "\n",
       "    .dataframe tbody tr th {\n",
       "        vertical-align: top;\n",
       "    }\n",
       "\n",
       "    .dataframe thead th {\n",
       "        text-align: right;\n",
       "    }\n",
       "</style>\n",
       "<table border=\"1\" class=\"dataframe\">\n",
       "  <thead>\n",
       "    <tr style=\"text-align: right;\">\n",
       "      <th></th>\n",
       "      <th>cat</th>\n",
       "      <th>date</th>\n",
       "      <th>movie_title</th>\n",
       "      <th>not_useful</th>\n",
       "      <th>score</th>\n",
       "      <th>text</th>\n",
       "      <th>title</th>\n",
       "      <th>useful</th>\n",
       "    </tr>\n",
       "  </thead>\n",
       "  <tbody>\n",
       "    <tr>\n",
       "      <th>950</th>\n",
       "      <td>neutral</td>\n",
       "      <td>2019-06-05 21:57:00</td>\n",
       "      <td>Во имя спасения</td>\n",
       "      <td>0</td>\n",
       "      <td>6</td>\n",
       "      <td>Апокалипсис по шведски. За крепкий и перегруже...</td>\n",
       "      <td>Замечательная бредятина.</td>\n",
       "      <td>2</td>\n",
       "    </tr>\n",
       "    <tr>\n",
       "      <th>949</th>\n",
       "      <td>neutral</td>\n",
       "      <td>2019-06-06 00:46:00</td>\n",
       "      <td>Атлантида</td>\n",
       "      <td>0</td>\n",
       "      <td>6</td>\n",
       "      <td>Научно-фантастический фильм «Атлантида»  симб...</td>\n",
       "      <td></td>\n",
       "      <td>0</td>\n",
       "    </tr>\n",
       "    <tr>\n",
       "      <th>948</th>\n",
       "      <td>neutral</td>\n",
       "      <td>2019-06-06 11:37:00</td>\n",
       "      <td>Мы всегда жили в замке</td>\n",
       "      <td>0</td>\n",
       "      <td>5</td>\n",
       "      <td>«Мы всегда жили в замке»  второй фильм Стэйси...</td>\n",
       "      <td></td>\n",
       "      <td>0</td>\n",
       "    </tr>\n",
       "    <tr>\n",
       "      <th>947</th>\n",
       "      <td>neutral</td>\n",
       "      <td>2019-06-06 14:03:00</td>\n",
       "      <td>Годзилла 2: Король монстров</td>\n",
       "      <td>0</td>\n",
       "      <td>6</td>\n",
       "      <td>Начну с того, что не являюсь фанатом Годзиллы,...</td>\n",
       "      <td>Король спецэффектов</td>\n",
       "      <td>0</td>\n",
       "    </tr>\n",
       "    <tr>\n",
       "      <th>946</th>\n",
       "      <td>neutral</td>\n",
       "      <td>2019-06-06 14:55:00</td>\n",
       "      <td>Люди Икс: Тёмный Феникс</td>\n",
       "      <td>0</td>\n",
       "      <td>6</td>\n",
       "      <td>Сюжет  предсказуемый, шаблонный, угадывается ...</td>\n",
       "      <td>Не так должна была закончиться культовая сага.</td>\n",
       "      <td>0</td>\n",
       "    </tr>\n",
       "  </tbody>\n",
       "</table>\n",
       "</div>"
      ],
      "text/plain": [
       "         cat                date                  movie_title  not_useful  \\\n",
       "950  neutral 2019-06-05 21:57:00              Во имя спасения           0   \n",
       "949  neutral 2019-06-06 00:46:00                    Атлантида           0   \n",
       "948  neutral 2019-06-06 11:37:00       Мы всегда жили в замке           0   \n",
       "947  neutral 2019-06-06 14:03:00  Годзилла 2: Король монстров           0   \n",
       "946  neutral 2019-06-06 14:55:00      Люди Икс: Тёмный Феникс           0   \n",
       "\n",
       "     score                                               text  \\\n",
       "950      6  Апокалипсис по шведски. За крепкий и перегруже...   \n",
       "949      6  Научно-фантастический фильм «Атлантида»  симб...   \n",
       "948      5  «Мы всегда жили в замке»  второй фильм Стэйси...   \n",
       "947      6  Начну с того, что не являюсь фанатом Годзиллы,...   \n",
       "946      6  Сюжет  предсказуемый, шаблонный, угадывается ...   \n",
       "\n",
       "                                              title  useful  \n",
       "950                        Замечательная бредятина.       2  \n",
       "949                                                       0  \n",
       "948                                                       0  \n",
       "947                             Король спецэффектов       0  \n",
       "946  Не так должна была закончиться культовая сага.       0  "
      ]
     },
     "execution_count": 53,
     "metadata": {},
     "output_type": "execute_result"
    }
   ],
   "source": [
    "df = pd.DataFrame(list_of_reviews)\n",
    "df.sort_values('date').tail()"
   ]
  },
  {
   "cell_type": "code",
   "execution_count": 54,
   "metadata": {},
   "outputs": [],
   "source": [
    "df.to_csv('../neutral.tsv', sep='\\t')"
   ]
  },
  {
   "cell_type": "code",
   "execution_count": null,
   "metadata": {},
   "outputs": [],
   "source": []
  }
 ],
 "metadata": {
  "kernelspec": {
   "display_name": "Python 3",
   "language": "python",
   "name": "python3"
  },
  "language_info": {
   "codemirror_mode": {
    "name": "ipython",
    "version": 3
   },
   "file_extension": ".py",
   "mimetype": "text/x-python",
   "name": "python",
   "nbconvert_exporter": "python",
   "pygments_lexer": "ipython3",
   "version": "3.6.7"
  }
 },
 "nbformat": 4,
 "nbformat_minor": 2
}
