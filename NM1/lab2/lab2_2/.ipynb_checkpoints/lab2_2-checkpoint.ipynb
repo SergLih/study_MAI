{
 "cells": [
  {
   "cell_type": "code",
   "execution_count": 90,
   "metadata": {},
   "outputs": [],
   "source": [
    "import numpy as np\n",
    "from numpy.linalg import norm\n",
    "from math import *\n",
    "\n",
    "interval_x1 = (8, 10)\n",
    "interval_x2 = (2, 3)\n",
    "EPS = 0.01\n",
    "\n",
    "def f1(x):\n",
    "    return x[0]**2 + x[1]**2 - 16\n",
    "\n",
    "def f2(x):\n",
    "    return x[0] - exp(x[1]) + 4\n",
    "\n",
    "def phi1(x):\n",
    "    return (16 - x[1]**2)**0.5\n",
    "\n",
    "def phi2(x):\n",
    "    return log(x[0] + 4)\n"
   ]
  },
  {
   "cell_type": "code",
   "execution_count": 91,
   "metadata": {},
   "outputs": [],
   "source": [
    "def derivative(x, f1=False, f2=False, phi1=False, phi2=False, x1=False, x2=False):\n",
    "    if f1 and x1:\n",
    "        return 2 * x[0]\n",
    "    elif f1 and x2:\n",
    "        return 2 * x[1]\n",
    "    elif f2 and x1:\n",
    "        return 1\n",
    "    elif f2 and x2:\n",
    "        return -exp(x[1])\n",
    "    elif (phi1 and x1) or (phi2 and x2):\n",
    "        return 0\n",
    "    elif phi1 and x2:\n",
    "        return -x[1] / ((16 - x[1]**2)**0.5)\n",
    "    elif phi2 and x1:\n",
    "        return 1 / (x[0] + 4)"
   ]
  },
  {
   "cell_type": "code",
   "execution_count": 92,
   "metadata": {},
   "outputs": [],
   "source": [
    "def get_q(x):\n",
    "    max_phi1 = (abs(derivative(x, phi1=True, x1=True)) + \n",
    "                abs(derivative(x, phi1=True, x2=True)))\n",
    "    max_phi2 = (abs(derivative(x, phi2=True, x1=True)) + \n",
    "                abs(derivative(x, phi2=True, x2=True)))\n",
    "    return max(max_phi1, max_phi2)"
   ]
  },
  {
   "cell_type": "code",
   "execution_count": 93,
   "metadata": {},
   "outputs": [],
   "source": [
    "def A1(x):\n",
    "    return [[f1(x), derivative(x, f1=True, x2=True)],\n",
    "            [f2(x), derivative(x, f2=True, x2=True)]]\n",
    "\n",
    "def A2(x):\n",
    "    return [[derivative(x, f1=True, x1=True), f1(x)],\n",
    "            [derivative(x, f2=True, x1=True), f2(x)]]"
   ]
  },
  {
   "cell_type": "code",
   "execution_count": 94,
   "metadata": {},
   "outputs": [],
   "source": [
    "def jacobi(x):\n",
    "    return [[derivative(x, f1=True, x1=True), derivative(x, f1=True, x2=True)],\n",
    "            [derivative(x, f2=True, x1=True), derivative(x, f2=True, x2=True)]]"
   ]
  },
  {
   "cell_type": "code",
   "execution_count": 95,
   "metadata": {},
   "outputs": [],
   "source": [
    "def determinant(mat):\n",
    "    return mat[0][0] * mat[1][1] - mat[0][1] * mat[1][0]\n",
    "\n",
    "def newton_method():\n",
    "    x = [(interval_x1[0] + interval_x1[1]) / 2, \n",
    "         (interval_x2[0] + interval_x2[1]) / 2]\n",
    "    while True:\n",
    "        x_next = [x[0] - determinant(A1(x)) / determinant(jacobi(x)),\n",
    "                  x[1] - determinant(A2(x)) / determinant(jacobi(x))] \n",
    "        if max([abs(i - j) for i, j in zip(x, x_next)]) < EPS:\n",
    "            return x_next\n",
    "        x = x_next"
   ]
  },
  {
   "cell_type": "code",
   "execution_count": 96,
   "metadata": {},
   "outputs": [],
   "source": [
    "def iteration_method():\n",
    "    x = [(interval_x1[0] + interval_x1[1]) / 2, \n",
    "         (interval_x2[0] + interval_x2[1]) / 2]\n",
    "    q = get_q(x)\n",
    "    while True:\n",
    "        x_next = [phi1(x), phi2(x)]\n",
    "        if max([abs(i - j) for i, j in zip(x, x_next)]) * q / (1 - q) < EPS:\n",
    "            return x_next\n",
    "        x = x_next"
   ]
  },
  {
   "cell_type": "code",
   "execution_count": 97,
   "metadata": {},
   "outputs": [
    {
     "name": "stdout",
     "output_type": "stream",
     "text": [
      "Newton method:  [3.458677515545314, 2.0093808014141077]\n",
      "Iteration method:  [3.4588562211470086, 2.0093986627041787]\n"
     ]
    }
   ],
   "source": [
    "print(\"Newton method: \", newton_method())\n",
    "print(\"Iteration method: \", iteration_method())"
   ]
  },
  {
   "cell_type": "code",
   "execution_count": null,
   "metadata": {},
   "outputs": [],
   "source": []
  }
 ],
 "metadata": {
  "kernelspec": {
   "display_name": "Python 3 (ipykernel)",
   "language": "python",
   "name": "python3"
  },
  "language_info": {
   "codemirror_mode": {
    "name": "ipython",
    "version": 3
   },
   "file_extension": ".py",
   "mimetype": "text/x-python",
   "name": "python",
   "nbconvert_exporter": "python",
   "pygments_lexer": "ipython3",
   "version": "3.6.9"
  }
 },
 "nbformat": 4,
 "nbformat_minor": 2
}
