{
 "cells": [
  {
   "cell_type": "code",
   "execution_count": 271,
   "metadata": {},
   "outputs": [],
   "source": [
    "import numpy as np\n",
    "np.set_printoptions(precision=6)\n",
    "import sys\n",
    "import matplotlib.pyplot as plt\n"
   ]
  },
  {
   "cell_type": "code",
   "execution_count": 272,
   "metadata": {},
   "outputs": [],
   "source": [
    "EPS = 0.01\n",
    "interval = (1, 1.5)\n",
    "def f(x):\n",
    "    return x * x * x + x * x - 2 * x - 1\n",
    "\n",
    "def df(x):\n",
    "    return 3 * x * x + 2 * x - 2"
   ]
  },
  {
   "cell_type": "code",
   "execution_count": 273,
   "metadata": {},
   "outputs": [],
   "source": [
    "def phi(x):\n",
    "    return (x**3 + x**2 - 1) / 2\n",
    "\n",
    "def dphi(x):\n",
    "    return (3*x**2 + 2*x) / 2"
   ]
  },
  {
   "cell_type": "code",
   "execution_count": 291,
   "metadata": {},
   "outputs": [],
   "source": [
    "def select_lambda():\n",
    "    x = np.linspace(interval[0], interval[1], 100)\n",
    "    y = [df(i) for i in x]\n",
    "    sign_df = None\n",
    "    if all([np.sign(i) == -1 for i in y]):\n",
    "        sign_df = -1\n",
    "    elif all([np.sign(i) == 1 for i in y]):\n",
    "        sign_df = 1\n",
    "    else:\n",
    "        print('Error: Derivative change sign\\n')\n",
    "        return\n",
    "    y = [abs(df(i)) for i in x]\n",
    "    return sign_df / max(y)\n",
    "\n",
    "def phi(x):\n",
    "    lmbd = select_lambda()\n",
    "    return x - lmbd * f(x)\n",
    "\n",
    "def dphi(x):\n",
    "    lmbd = select_lambda()\n",
    "    return 1 - lmbd * df(x)"
   ]
  },
  {
   "cell_type": "code",
   "execution_count": 294,
   "metadata": {},
   "outputs": [],
   "source": [
    "def newton_method():\n",
    "    x = interval[1]\n",
    "    points = [x]\n",
    "    while True:\n",
    "        x_next = x - f(x)/df(x)\n",
    "        if abs(x_next - x) < EPS:\n",
    "            return x_next, points\n",
    "        else:\n",
    "            points.append(x_next)\n",
    "            x = x_next"
   ]
  },
  {
   "cell_type": "code",
   "execution_count": 295,
   "metadata": {},
   "outputs": [
    {
     "data": {
      "text/plain": [
       "(1.2469820297515721, [1.5, 1.2903225806451613, 1.2486062445062553])"
      ]
     },
     "execution_count": 295,
     "metadata": {},
     "output_type": "execute_result"
    }
   ],
   "source": [
    "newton_method()"
   ]
  },
  {
   "cell_type": "code",
   "execution_count": 296,
   "metadata": {
    "scrolled": true
   },
   "outputs": [],
   "source": [
    "res, points = newton_method()\n",
    "\n",
    "def draw_graphic(points):\n",
    "    x = np.linspace(0, 2, 1000)\n",
    "    def f1(x):\n",
    "        return x*x*x\n",
    "    y = [f1(i) for i in x]\n",
    "    plt.plot(x, y)\n",
    "\n",
    "    def f2(x):\n",
    "        return 2*x - x*x + 1\n",
    "    y = [f2(i) for i in x]\n",
    "\n",
    "    plt.plot(x, y)\n",
    "    plt.xlabel('X')\n",
    "    plt.ylabel('Y')\n",
    "    for i in points:\n",
    "        plt.plot(i, f1(i), 'or')\n",
    "        plt.plot(i, f2(i), 'or')    \n",
    "    plt.grid(True)\n",
    "    plt.legend(['y = x^3', 'y = 2x - x^2 + 1'], loc='upper left')\n",
    "    plt.grid(True)\n",
    "    plt.savefig('Interval_definition')\n",
    "    plt.show()"
   ]
  },
  {
   "cell_type": "code",
   "execution_count": 297,
   "metadata": {
    "scrolled": false
   },
   "outputs": [
    {
     "data": {
      "image/png": "[encoded data removed]",
      "text/plain": [
       "<Figure size 432x288 with 1 Axes>"
      ]
     },
     "metadata": {
      "needs_background": "light"
     },
     "output_type": "display_data"
    }
   ],
   "source": [
    "draw_graphic(points)"
   ]
  },
  {
   "cell_type": "code",
   "execution_count": 279,
   "metadata": {},
   "outputs": [],
   "source": [
    "def get_q():\n",
    "    return max(abs(dphi(interval[0])), abs(dphi(interval[1])))"
   ]
  },
  {
   "cell_type": "code",
   "execution_count": 282,
   "metadata": {},
   "outputs": [],
   "source": [
    "def iteration_method():\n",
    "    x = (interval[1] + interval[0]) /  2\n",
    "    q = get_q()\n",
    "    points = [x]\n",
    "    while True:\n",
    "        x_next = phi(x)\n",
    "        if q * abs(x_next - x) / (1 - q) < EPS:\n",
    "            return x_next, points\n",
    "        points.append(x_next)\n",
    "        x = x_next\n",
    "    "
   ]
  },
  {
   "cell_type": "code",
   "execution_count": 283,
   "metadata": {},
   "outputs": [
    {
     "data": {
      "text/plain": [
       "(1.2578125, [1.25])"
      ]
     },
     "execution_count": 283,
     "metadata": {},
     "output_type": "execute_result"
    }
   ],
   "source": [
    "iteration_method()"
   ]
  },
  {
   "cell_type": "code",
   "execution_count": 284,
   "metadata": {},
   "outputs": [],
   "source": [
    "def newton_method():\n",
    "    x = interval[1]\n",
    "    while True:\n",
    "        x_next = x - f(x)/df(x)\n",
    "        if abs(x_next - x) < EPS:\n",
    "            return x_next\n",
    "        else:\n",
    "            x = x_next"
   ]
  },
  {
   "cell_type": "code",
   "execution_count": 292,
   "metadata": {
    "scrolled": false
   },
   "outputs": [
    {
     "name": "stdout",
     "output_type": "stream",
     "text": [
      "Newton method:  1.2469820297515721\n",
      "Iteration_method:  1.247983870967742\n"
     ]
    }
   ],
   "source": [
    "def iteration_method():\n",
    "    x = (interval[1] + interval[0]) /  2\n",
    "    q = get_q()\n",
    "    while True:\n",
    "        x_next = phi(x)\n",
    "        if q * abs(x_next - x) / (1 - q) < EPS:\n",
    "            return x_next\n",
    "        x = x_next\n",
    "print(\"Newton method: \", newton_method())    \n",
    "print(\"Iteration_method: \", iteration_method())"
   ]
  },
  {
   "cell_type": "code",
   "execution_count": null,
   "metadata": {},
   "outputs": [],
   "source": []
  }
 ],
 "metadata": {
  "kernelspec": {
   "display_name": "Python 3",
   "language": "python",
   "name": "python3"
  },
  "language_info": {
   "codemirror_mode": {
    "name": "ipython",
    "version": 3
   },
   "file_extension": ".py",
   "mimetype": "text/x-python",
   "name": "python",
   "nbconvert_exporter": "python",
   "pygments_lexer": "ipython3",
   "version": "3.6.3"
  }
 },
 "nbformat": 4,
 "nbformat_minor": 2
}
