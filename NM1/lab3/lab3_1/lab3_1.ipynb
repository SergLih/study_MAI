{
 "cells": [
  {
   "cell_type": "code",
   "execution_count": 1,
   "metadata": {},
   "outputs": [],
   "source": [
    "import numpy as np\n",
    "import math\n",
    "import operator\n",
    "from math import *\n",
    "from functools import reduce\n",
    "#filename =\n",
    "\n",
    "x1 = [-0.4, -0.1, 0.2, 0.5]\n",
    "x2 = [-0.4, 0, 0.2, 0.5]\n",
    "x = 0.1\n",
    "\n",
    "def f(x):\n",
    "    return acos(x)"
   ]
  },
  {
   "cell_type": "code",
   "execution_count": 2,
   "metadata": {},
   "outputs": [],
   "source": [
    "def omega(x_values, x, i):\n",
    "    return reduce(operator.mul, [x - x_values[j] for j in range(len(x_values)) if i != j])"
   ]
  },
  {
   "cell_type": "code",
   "execution_count": 3,
   "metadata": {},
   "outputs": [],
   "source": [
    "def lagrange_interpolation(x, x_values):\n",
    "    res = 0\n",
    "    for i in range(len(x_values)):\n",
    "        f_w = f(x_values[i]) / omega(x_values, x_values[i], i)\n",
    "        res += f_w * omega(x_values, x, i)\n",
    "        \n",
    "    print(\"Lagrange: \", res)\n",
    "    print(\"infelicity: \", abs(f(x) - res))"
   ]
  },
  {
   "cell_type": "code",
   "execution_count": 4,
   "metadata": {},
   "outputs": [
    {
     "name": "stdout",
     "output_type": "stream",
     "text": [
      "Lagrange:  1.4707404487843843\n",
      "infelicity:  0.00011154315104744406\n"
     ]
    }
   ],
   "source": [
    "lagrange_interpolation(x, x1)"
   ]
  },
  {
   "cell_type": "code",
   "execution_count": 5,
   "metadata": {},
   "outputs": [
    {
     "name": "stdout",
     "output_type": "stream",
     "text": [
      "Lagrange:  1.470702680154511\n",
      "infelicity:  7.377452117429684e-05\n"
     ]
    }
   ],
   "source": [
    "lagrange_interpolation(x, x2)"
   ]
  },
  {
   "cell_type": "code",
   "execution_count": 6,
   "metadata": {},
   "outputs": [],
   "source": [
    "def newton_interpolation(x_values, x):\n",
    "    func = [f(i) for i in x_values]\n",
    "    coefs = [func[i] for i in range(len(x_values))]\n",
    "    for j in range(1, len(x_values)):\n",
    "        for i in range(len(x_values) - 1, j - 1, -1):\n",
    "            coefs[i] = float(coefs[i] - coefs[i - 1]) / float(x_values[i] - x_values[i - j])\n",
    "    res = coefs[-1]\n",
    "    for i in range(len(coefs) - 2, -1, -1):\n",
    "        res = res * (x - x_values[i]) + coefs[i]\n",
    "    print(\"infelicity: \", abs(f(x) - res))\n",
    "    return res"
   ]
  },
  {
   "cell_type": "code",
   "execution_count": 7,
   "metadata": {},
   "outputs": [
    {
     "name": "stdout",
     "output_type": "stream",
     "text": [
      "infelicity:  7.377452117429684e-05\n"
     ]
    },
    {
     "data": {
      "text/plain": [
       "1.470702680154511"
      ]
     },
     "execution_count": 7,
     "metadata": {},
     "output_type": "execute_result"
    }
   ],
   "source": [
    "newton_interpolation(x2, x)"
   ]
  },
  {
   "cell_type": "code",
   "execution_count": 8,
   "metadata": {},
   "outputs": [
    {
     "name": "stdout",
     "output_type": "stream",
     "text": [
      "infelicity:  0.00011154315104744406\n"
     ]
    },
    {
     "data": {
      "text/plain": [
       "1.4707404487843843"
      ]
     },
     "execution_count": 8,
     "metadata": {},
     "output_type": "execute_result"
    }
   ],
   "source": [
    "newton_interpolation(x1, x)"
   ]
  },
  {
   "cell_type": "code",
   "execution_count": null,
   "metadata": {},
   "outputs": [],
   "source": []
  }
 ],
 "metadata": {
  "kernelspec": {
   "display_name": "Python 3",
   "language": "python",
   "name": "python3"
  },
  "language_info": {
   "codemirror_mode": {
    "name": "ipython",
    "version": 3
   },
   "file_extension": ".py",
   "mimetype": "text/x-python",
   "name": "python",
   "nbconvert_exporter": "python",
   "pygments_lexer": "ipython3",
   "version": "3.6.3"
  }
 },
 "nbformat": 4,
 "nbformat_minor": 2
}
