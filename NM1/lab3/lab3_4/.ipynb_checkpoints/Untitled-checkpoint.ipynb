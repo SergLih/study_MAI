{
 "cells": [
  {
   "cell_type": "code",
   "execution_count": 21,
   "metadata": {},
   "outputs": [],
   "source": [
    "import numpy as np\n",
    "import matplotlib.pyplot as plt\n",
    "\n",
    "def get_data(filename):\n",
    "    points = []\n",
    "    values = []\n",
    "    try:\n",
    "        with open(filename) as f:\n",
    "            points = list(map(float, f.readline().split()))\n",
    "            values = list(map(float, f.readline().split()))\n",
    "            preset_x = float(f.readline())\n",
    "    except IOError:\n",
    "        print('Problem with file')\n",
    "        sys.exit(1)\n",
    "    except ValueError:\n",
    "        print('Incorrect file format')\n",
    "        sys.exit(1)\n",
    "    return points, values, preset_x"
   ]
  },
  {
   "cell_type": "code",
   "execution_count": 22,
   "metadata": {},
   "outputs": [],
   "source": [
    "def find_interval(x, x_pres):\n",
    "    for i in range(len(x)):\n",
    "        if x[i] <= x_pres and x_pres <= x[i+1]:\n",
    "            return i\n",
    "\n",
    "def first_derivative(x, y, x_pres):\n",
    "    i = find_interval(x, x_pres)\n",
    "    finite_difference = (y[i+1] - y[i]) / (x[i+1] - x[i])\n",
    "    finite_difference2 = (((y[i+2] - y[i+1]) / (x[i+2] - x[i+1])) - finite_difference) / (x[i+2] - x[i])\n",
    "    return finite_difference + finite_difference2 * (2*x_pres - x[i] - x[i+1])\n",
    "    "
   ]
  },
  {
   "cell_type": "code",
   "execution_count": 23,
   "metadata": {},
   "outputs": [],
   "source": [
    "def second_derivative(x, y, x_pres):\n",
    "    i = find_interval(x, x_pres)\n",
    "    finite_difference  = (y[i+2] - y[i+1]) / (x[i+2] - x[i+1])\n",
    "    finite_difference2 = (y[i+1] - y[i]) / (x[i+1] - x[i])\n",
    "    return 2*(finite_difference - finite_difference2) / (x[i+2] - x[i])"
   ]
  },
  {
   "cell_type": "code",
   "execution_count": 24,
   "metadata": {},
   "outputs": [],
   "source": [
    "points, values, preset_x = get_data('test1.txt')"
   ]
  },
  {
   "cell_type": "code",
   "execution_count": 29,
   "metadata": {},
   "outputs": [
    {
     "name": "stdout",
     "output_type": "stream",
     "text": [
      "-0.5535749999999999\n",
      "0.46365\n"
     ]
    }
   ],
   "source": [
    "print(first_derivative(points, values, preset_x))\n",
    "print(second_derivative(points, values, preset_x))"
   ]
  },
  {
   "cell_type": "code",
   "execution_count": null,
   "metadata": {},
   "outputs": [],
   "source": []
  }
 ],
 "metadata": {
  "kernelspec": {
   "display_name": "Python 3 (ipykernel)",
   "language": "python",
   "name": "python3"
  },
  "language_info": {
   "codemirror_mode": {
    "name": "ipython",
    "version": 3
   },
   "file_extension": ".py",
   "mimetype": "text/x-python",
   "name": "python",
   "nbconvert_exporter": "python",
   "pygments_lexer": "ipython3",
   "version": "3.6.9"
  }
 },
 "nbformat": 4,
 "nbformat_minor": 2
}
