{
 "cells": [
  {
   "cell_type": "code",
   "execution_count": 62,
   "metadata": {},
   "outputs": [],
   "source": [
    "import numpy as np\n",
    "\n",
    "x = 0.1\n",
    "points = [-0.4, -0.1, 0.2, 0.5, 0.8]\n",
    "values = [1.9823, 1.6710, 1.3694, 1.0472, 0.64350] #TODO read file"
   ]
  },
  {
   "cell_type": "code",
   "execution_count": 63,
   "metadata": {},
   "outputs": [],
   "source": [
    "#progonka\n",
    "def tma_running(matrix, vec_ans, order):\n",
    "    a, b, c = zip(*matrix)\n",
    "    p = [-c[0] / b[0]]\n",
    "    q = [vec_ans[0] / b[0]]\n",
    "    x = [0] * (order + 1)\n",
    "    for i in range(1, order):\n",
    "        p.append(-c[i] / (b[i] + a[i] * p[i - 1]))\n",
    "        q.append((vec_ans[i] - a[i] * q[i - 1]) / (b[i] + a[i] * p[i - 1]))\n",
    "    for i in reversed(range(order)):\n",
    "        x[i] = p[i] * x[i + 1] + q[i]\n",
    "    x.pop(-1)\n",
    "    return x"
   ]
  },
  {
   "cell_type": "code",
   "execution_count": 64,
   "metadata": {},
   "outputs": [],
   "source": []
  },
  {
   "cell_type": "code",
   "execution_count": 126,
   "metadata": {},
   "outputs": [],
   "source": [
    "def spline_interpolation(points, values, x):\n",
    "    size = len(points)\n",
    "    h = [points[i] - points[i - 1] for i in range(1, size)]\n",
    "    mtrx = [[0, 2 * (h[0] + h[1]), h[1]]]                                             #a1b1 0 0\n",
    "    b = [3 *((values[2] - values[1]) / h[1] - (values[1] - values[0]) / h[0])]        #c1a2b2 0\n",
    "                                                                                      # 0c2a3b3\n",
    "                                                                                      # 0 0c3a3\n",
    "\n",
    "    for i in range(1, size - 3):\n",
    "        mtrx.append([h[i], 2 * (h[i] + h[i + 1]), h[i + 1]])\n",
    "        b.append(3 * ((values[i + 2] - values[i + 1]) / h[i + 1] - (values[i + 1] - values[i]) / h[i]))\n",
    "    mtrx.append([h[-2], 2 * (h[-2] + h[-1]), 0])\n",
    "    b.append(3 * ((values[-1] - values[-2]) / h[-1] - (values[-2] - values[-3]) / h[-2]))\n",
    "    \n",
    "    \n",
    "    #find a, b, c, d\n",
    "    \n",
    "    c = tma_running(mtrx, b, size - 2)\n",
    "    a = []\n",
    "    b = []\n",
    "    d = []\n",
    "    c.insert(0, 0)\n",
    "    for i in range(1, size):\n",
    "        a.append(values[i - 1])\n",
    "        if i < size - 1:\n",
    "            d.append((c[i] - c[i - 1]) / (3 * h[i - 1]))\n",
    "            b.append((values[i] - values[i - 1]) / h[i - 1] -\n",
    "                     h[i - 1] * (c[i] + 2 * c[i - 1]) / 3)\n",
    "    b.append((values[-1] - values[-2]) / h[-1] - 2 * h[-1] * c[-1] / 3)\n",
    "    d.append(-c[-1] / (3 * h[-1]))\n",
    "    \n",
    "    i = find_interval(points, x)\n",
    "    res = a[i] + b[i] * (x - points[i]) + c[i]*((x-points[i])**2) + d[i]*((x-points[i])**3)\n",
    "    return a, b, c, d\n",
    "    "
   ]
  },
  {
   "cell_type": "code",
   "execution_count": 87,
   "metadata": {},
   "outputs": [],
   "source": [
    "def find_interval(points, x):\n",
    "    k = 0\n",
    "    for i, j in zip(points, points[1:]):\n",
    "        if i <= x <= j:\n",
    "            return k\n",
    "        k += 1"
   ]
  },
  {
   "cell_type": "code",
   "execution_count": 119,
   "metadata": {
    "scrolled": true
   },
   "outputs": [],
   "source": []
  },
  {
   "cell_type": "code",
   "execution_count": 155,
   "metadata": {},
   "outputs": [],
   "source": [
    "coef = spline_interpolation(points, values, x)\n",
    "\n",
    "def draw_graphic(points):\n",
    "    x1 = np.linspace(points[0], points[-1], 100)\n",
    "    y1 = []\n",
    "    a, b, c, d = coef\n",
    "    for p in x1:\n",
    "        k = 0\n",
    "        for i, j in zip(points, points[1:]):\n",
    "            if i <= p <= j:\n",
    "                y1.append(a[k] + b[k] * (p - points[k]) + c[k]*((p-points[k])**2) + d[k]*((p-points[k])**3))\n",
    "            k += 1\n",
    "\n",
    "    plt.plot(x1, y1, color='b')\n",
    "    plt.plot(points, values, 'or')\n",
    "    plt.xlabel('X')\n",
    "    plt.ylabel('Y')\n",
    "    #plt.legend(['y = x^3', 'y = 2x - x^2 + 1'], loc='upper left')\n",
    "    plt.grid(True)\n",
    "    #plt.savefig('Spline interpolation')\n",
    "    plt.show()"
   ]
  },
  {
   "cell_type": "code",
   "execution_count": 156,
   "metadata": {},
   "outputs": [
    {
     "data": {
      "image/png": "[encoded data removed]",
      "text/plain": [
       "<Figure size 432x288 with 1 Axes>"
      ]
     },
     "metadata": {
      "needs_background": "light"
     },
     "output_type": "display_data"
    }
   ],
   "source": [
    "draw_graphic(points)"
   ]
  },
  {
   "cell_type": "code",
   "execution_count": 6,
   "metadata": {},
   "outputs": [
    {
     "data": {
      "text/plain": [
       "1.4694391534391535"
      ]
     },
     "execution_count": 6,
     "metadata": {},
     "output_type": "execute_result"
    }
   ],
   "source": [
    "find_interval(points, preset_x)"
   ]
  },
  {
   "cell_type": "code",
   "execution_count": null,
   "metadata": {},
   "outputs": [],
   "source": []
  }
 ],
 "metadata": {
  "kernelspec": {
   "display_name": "Python 3",
   "language": "python",
   "name": "python3"
  },
  "language_info": {
   "codemirror_mode": {
    "name": "ipython",
    "version": 3
   },
   "file_extension": ".py",
   "mimetype": "text/x-python",
   "name": "python",
   "nbconvert_exporter": "python",
   "pygments_lexer": "ipython3",
   "version": "3.6.3"
  }
 },
 "nbformat": 4,
 "nbformat_minor": 2
}
