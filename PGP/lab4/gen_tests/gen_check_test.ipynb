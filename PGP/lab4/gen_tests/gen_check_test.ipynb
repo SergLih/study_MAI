{
 "cells": [
  {
   "cell_type": "code",
   "execution_count": 73,
   "metadata": {},
   "outputs": [
    {
     "data": {
      "application/vnd.jupyter.widget-view+json": {
       "model_id": "c19cbae7f83d4b60bcf94673d57be0f4",
       "version_major": 2,
       "version_minor": 0
      },
      "text/plain": [
       "HBox(children=(IntProgress(value=0, max=1), HTML(value='')))"
      ]
     },
     "metadata": {},
     "output_type": "display_data"
    },
    {
     "name": "stdout",
     "output_type": "stream",
     "text": [
      "\n"
     ]
    }
   ],
   "source": [
    "import sys\n",
    "import random\n",
    "import numpy as np\n",
    "from scipy.sparse import random\n",
    "from tqdm import tqdm_notebook\n",
    "\n",
    "t = 1\n",
    "n = 128\n",
    "file_in = 'test'\n",
    "\n",
    "for i in tqdm_notebook(range(t)):\n",
    "    random_arr = random(n, n, density=0.5).A / 10\n",
    "    np.savetxt(file_in, random_arr, header=str(n), comments='')\n",
    "    answer = '{:.10e}'.format(np.linalg.det(random_arr))\n",
    "    #my_answer = ! ./a.out 8 8 < test\n",
    "    #my_answer = my_answer[0]\n",
    "    #if answer != my_answer:\n",
    "    #    print(answer, my_answer)\n",
    "    #    break"
   ]
  },
  {
   "cell_type": "code",
   "execution_count": 74,
   "metadata": {},
   "outputs": [
    {
     "name": "stdout",
     "output_type": "stream",
     "text": [
      "7.8444651288e-84 []\n"
     ]
    }
   ],
   "source": [
    "print(answer, my_answer)"
   ]
  },
  {
   "cell_type": "code",
   "execution_count": null,
   "metadata": {},
   "outputs": [],
   "source": []
  }
 ],
 "metadata": {
  "kernelspec": {
   "display_name": "Python 3",
   "language": "python",
   "name": "python3"
  },
  "language_info": {
   "codemirror_mode": {
    "name": "ipython",
    "version": 3
   },
   "file_extension": ".py",
   "mimetype": "text/x-python",
   "name": "python",
   "nbconvert_exporter": "python",
   "pygments_lexer": "ipython3",
   "version": "3.7.4"
  }
 },
 "nbformat": 4,
 "nbformat_minor": 2
}
