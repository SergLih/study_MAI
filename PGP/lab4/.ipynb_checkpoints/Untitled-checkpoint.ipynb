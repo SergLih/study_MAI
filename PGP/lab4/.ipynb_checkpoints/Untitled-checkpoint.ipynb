{
 "cells": [
  {
   "cell_type": "code",
   "execution_count": 1,
   "metadata": {},
   "outputs": [
    {
     "name": "stderr",
     "output_type": "stream",
     "text": [
      "/home/sergey/.local/lib/python3.6/site-packages/ipykernel_launcher.py:11: TqdmDeprecationWarning: This function will be removed in tqdm==5.0.0\n",
      "Please use `tqdm.notebook.tqdm` instead of `tqdm.tqdm_notebook`\n",
      "  # This is added back by InteractiveShellApp.init_path()\n"
     ]
    },
    {
     "data": {
      "application/vnd.jupyter.widget-view+json": {
       "model_id": "5106c901466f4bda9b897c88f175c850",
       "version_major": 2,
       "version_minor": 0
      },
      "text/plain": [
       "  0%|          | 0/1 [00:00<?, ?it/s]"
      ]
     },
     "metadata": {},
     "output_type": "display_data"
    }
   ],
   "source": [
    "import sys\n",
    "import random\n",
    "import numpy as np\n",
    "from scipy.sparse import random\n",
    "from tqdm import tqdm_notebook\n",
    "\n",
    "t = 1\n",
    "n = 128\n",
    "file_in = 'test2'\n",
    "\n",
    "for i in tqdm_notebook(range(t)):\n",
    "    random_arr = random(n, n, density=0.5).A / 10\n",
    "    np.savetxt(file_in, random_arr, header=str(n), comments='')\n",
    "    answer = '{:.10e}'.format(np.linalg.det(random_arr))\n",
    "    my_answer = ! ./a.out 8 8 < test\n",
    "    my_answer = my_answer[0]\n",
    "    #if answer != my_answer:\n",
    "    #    print(answer, my_answer)\n",
    "    #    break"
   ]
  },
  {
   "cell_type": "code",
   "execution_count": 2,
   "metadata": {},
   "outputs": [
    {
     "name": "stdout",
     "output_type": "stream",
     "text": [
      "-4.1129311208e-84 /bin/bash: ./a.out: No such file or directory\n"
     ]
    }
   ],
   "source": [
    "print(answer, my_answer)"
   ]
  },
  {
   "cell_type": "code",
   "execution_count": null,
   "metadata": {},
   "outputs": [],
   "source": []
  }
 ],
 "metadata": {
  "kernelspec": {
   "display_name": "Python 3 (ipykernel)",
   "language": "python",
   "name": "python3"
  },
  "language_info": {
   "codemirror_mode": {
    "name": "ipython",
    "version": 3
   },
   "file_extension": ".py",
   "mimetype": "text/x-python",
   "name": "python",
   "nbconvert_exporter": "python",
   "pygments_lexer": "ipython3",
   "version": "3.6.9"
  }
 },
 "nbformat": 4,
 "nbformat_minor": 2
}
